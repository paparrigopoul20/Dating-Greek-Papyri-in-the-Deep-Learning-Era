{
  "nbformat": 4,
  "nbformat_minor": 0,
  "metadata": {
    "colab": {
      "provenance": [],
      "collapsed_sections": [],
      "include_colab_link": true
    },
    "kernelspec": {
      "display_name": "Python 3",
      "name": "python3"
    },
    "language_info": {
      "name": "python"
    }
  },
  "cells": [
    {
      "cell_type": "markdown",
      "metadata": {
        "id": "view-in-github",
        "colab_type": "text"
      },
      "source": [
        "<a href=\"https://colab.research.google.com/github/paparrigopoul20/example/blob/main/Machine_Learning.ipynb\" target=\"_parent\"><img src=\"https://colab.research.google.com/assets/colab-badge.svg\" alt=\"Open In Colab\"/></a>"
      ]
    },
    {
      "cell_type": "code",
      "metadata": {
        "id": "fVb7fSAuvVve"
      },
      "source": [
        "#imports \n",
        "from keras.preprocessing.image import load_img \n",
        "\n",
        "import os\n",
        "import numpy as np\n",
        "import matplotlib.pyplot as plt\n",
        "from matplotlib.ticker import FormatStrFormatter\n",
        "from random import randint\n",
        "import pandas as pd\n",
        "import pickle\n",
        "\n",
        "import scipy.io\n",
        "\n",
        "import joblib\n",
        "from joblib import dump, load\n",
        "from PIL import Image\n",
        "\n",
        "from sklearn.metrics import classification_report\n",
        "from sklearn.metrics import accuracy_score\n",
        "from sklearn.metrics import mean_absolute_error\n",
        "from sklearn.metrics import mean_squared_error\n",
        "import statistics"
      ],
      "execution_count": null,
      "outputs": []
    },
    {
      "cell_type": "code",
      "metadata": {
        "id": "0gdz_2NPkiez"
      },
      "source": [
        "#import the classifiers\n",
        "from sklearn import datasets, neighbors, linear_model\n",
        "from sklearn import svm\n",
        "from sklearn import tree\n",
        "from sklearn.ensemble import RandomForestClassifier\n",
        "from sklearn.gaussian_process import GaussianProcessClassifier\n",
        "from sklearn.neural_network import MLPClassifier"
      ],
      "execution_count": null,
      "outputs": []
    },
    {
      "cell_type": "markdown",
      "source": [
        "# Machine Learning"
      ],
      "metadata": {
        "id": "cbbXWyI12kIr"
      }
    },
    {
      "cell_type": "markdown",
      "source": [
        "Experiments: Experimental settings"
      ],
      "metadata": {
        "id": "6edL6X0x2dkF"
      }
    },
    {
      "cell_type": "code",
      "metadata": {
        "id": "in2r_07xVf1A"
      },
      "source": [
        "# method partly taken from https://kapernikov.com/tutorial-image-classification-with-scikit-learn/\n",
        "\n",
        "def resize_all(src, pklname, include):\n",
        "   \"\"\"\n",
        "    load images from path, resize them and write them as arrays to a dictionary, \n",
        "    together with labels and metadata.The dictionary is written to a pickle file \n",
        "    named '{pklname}.pkl'.\n",
        "     \n",
        "    Parameter\n",
        "    ---------\n",
        "    src: str\n",
        "        path to data\n",
        "    pklname: str\n",
        "        path to output file\n",
        "    include: set[str]\n",
        "        set containing str\n",
        "    \"\"\"\n",
        "     \n",
        "    data = dict()\n",
        "    data['label'] = []\n",
        "    data['filename'] = []\n",
        "    data['data'] = []\n",
        "     \n",
        "    #DESTINATION_PATH\n",
        "    pklname = f\"{pklname}.pkl\"\n",
        " \n",
        "    # read all images in PATH, resize and write to DESTINATION_PATH\n",
        "    for file in os.listdir(src):\n",
        "        if file[:5] in include:\n",
        "          img = load_img(os.path.join(src, file), target_size=(224,224))\n",
        "          img_array = np.array(img) \n",
        "          data['label'].append(file[:5])\n",
        "          data['filename'].append(file)\n",
        "          data['data'].append(img_array)\n",
        "            \n",
        " \n",
        "        joblib.dump(data, pklname)"
      ],
      "execution_count": null,
      "outputs": []
    },
    {
      "cell_type": "code",
      "metadata": {
        "id": "Z6gbd3A9wQ9L"
      },
      "source": [
        "#unzip the file with documentary images from https://www.baylor.edu/classics/index.php?id=958431\n",
        "%%capture\n",
        "!unzip CDDGB.zip"
      ],
      "execution_count": null,
      "outputs": []
    },
    {
      "cell_type": "code",
      "metadata": {
        "id": "QG20fpvwWNGm"
      },
      "source": [
        "# modify to fit your system\n",
        "data_path ='CDDGB/'\n",
        "base_name = 'CDDGB'\n",
        "\n",
        "#Define the centuries we are interested in\n",
        "include = {'3rdBC','2ndBC','1stBC','1stAD', '2ndAD', '3rdAD','4thAD','5thAD', '6thAD', '7thAD', '8thAD','9thAD'}\n",
        "resize_all(data_path, pklname=base_name, include=include)"
      ],
      "execution_count": null,
      "outputs": []
    },
    {
      "cell_type": "code",
      "metadata": {
        "colab": {
          "base_uri": "https://localhost:8080/"
        },
        "id": "3JYahoR_UpB6",
        "outputId": "a9d34fe6-3e98-4130-e649-dcc7cda9fc4d"
      },
      "source": [
        "from collections import Counter\n",
        "\n",
        "data =joblib.load(f'{base_name}.pkl')\n",
        "\n",
        "print('number of samples: ', len(data['data']))\n",
        "print('keys: ', list(data.keys()))\n",
        "print('image shape: ', data['data'][0].shape)\n",
        "print('labels:', np.unique(data['label']))\n",
        " \n",
        "Counter(data['label'])"
      ],
      "execution_count": null,
      "outputs": [
        {
          "output_type": "stream",
          "name": "stdout",
          "text": [
            "number of samples:  255\n",
            "keys:  ['label', 'filename', 'data', 'img']\n",
            "image shape:  (224, 224, 3)\n",
            "labels: ['1stAD' '1stBC' '2ndAD' '3rdAD' '4thAD' '5thAD' '6thAD' '7thAD' '8thAD'\n",
            " '9thAD']\n"
          ]
        },
        {
          "output_type": "execute_result",
          "data": {
            "text/plain": [
              "Counter({'1stAD': 20,\n",
              "         '1stBC': 1,\n",
              "         '2ndAD': 87,\n",
              "         '3rdAD': 71,\n",
              "         '4thAD': 18,\n",
              "         '5thAD': 7,\n",
              "         '6thAD': 13,\n",
              "         '7thAD': 2,\n",
              "         '8thAD': 6,\n",
              "         '9thAD': 30})"
            ]
          },
          "metadata": {},
          "execution_count": 7
        }
      ]
    },
    {
      "cell_type": "code",
      "metadata": {
        "colab": {
          "base_uri": "https://localhost:8080/"
        },
        "id": "GAaLybQrWhzJ",
        "outputId": "a18e4dc2-aac4-41a4-88b5-1c1e6f2ed4c6"
      },
      "source": [
        "#get a list of just the features\n",
        "X = np.array(data['data'])\n",
        "y = np.array(data['label'])\n",
        "X.shape"
      ],
      "execution_count": null,
      "outputs": [
        {
          "output_type": "execute_result",
          "data": {
            "text/plain": [
              "(255, 224, 224, 3)"
            ]
          },
          "metadata": {},
          "execution_count": 33
        }
      ]
    },
    {
      "cell_type": "code",
      "metadata": {
        "colab": {
          "base_uri": "https://localhost:8080/"
        },
        "id": "djBFi7JtWkxp",
        "outputId": "97a4fbb0-1d51-4d97-d6da-894cd9efdcc7"
      },
      "source": [
        "#concatenate the three channels\n",
        "X=np.reshape(X,(X.shape[0], -1))\n",
        "X.shape"
      ],
      "execution_count": null,
      "outputs": [
        {
          "output_type": "execute_result",
          "data": {
            "text/plain": [
              "(255, 150528)"
            ]
          },
          "metadata": {},
          "execution_count": 37
        }
      ]
    },
    {
      "cell_type": "code",
      "metadata": {
        "colab": {
          "base_uri": "https://localhost:8080/"
        },
        "id": "KnrGwuNvxQIg",
        "outputId": "8f0e1644-cd22-4042-cf6b-6f543235304f"
      },
      "source": [
        "#perform dimensionality reduction with Principal Component Analysis (PCA), keeping the top one hundred principal components\n",
        "from sklearn.decomposition import PCA\n",
        "\n",
        "pca = PCA(n_components=100, random_state=22)\n",
        "pca.fit(X)\n",
        "X = pca.transform(X)\n",
        "X.shape"
      ],
      "execution_count": null,
      "outputs": [
        {
          "output_type": "execute_result",
          "data": {
            "text/plain": [
              "(255, 100)"
            ]
          },
          "metadata": {},
          "execution_count": 44
        }
      ]
    },
    {
      "cell_type": "code",
      "metadata": {
        "id": "G3MCQ4yVenqm"
      },
      "source": [
        "# normalizing\n",
        "X_images = X / X.max()\n",
        "y_images = y"
      ],
      "execution_count": null,
      "outputs": []
    },
    {
      "cell_type": "markdown",
      "source": [
        "Create three random train/test splits (80/20)."
      ],
      "metadata": {
        "id": "VJi5EHs25cer"
      }
    },
    {
      "cell_type": "code",
      "metadata": {
        "id": "6owjqfCAkM1K"
      },
      "source": [
        "from sklearn.model_selection import train_test_split\n",
        "X_train1, X_test1, y_train1, y_test1 = train_test_split(X_images, y_images, test_size=0.20)"
      ],
      "execution_count": null,
      "outputs": []
    },
    {
      "cell_type": "code",
      "metadata": {
        "id": "JvLYfdUS9hq7"
      },
      "source": [
        "X_train2, X_test2, y_train2, y_test2 = train_test_split(X_images, y_images, test_size=0.20)"
      ],
      "execution_count": null,
      "outputs": []
    },
    {
      "cell_type": "code",
      "metadata": {
        "id": "tSBXffL09hy1"
      },
      "source": [
        "X_train3, X_test3, y_train3, y_test3 = train_test_split(X_images, y_images, test_size=0.20)"
      ],
      "execution_count": null,
      "outputs": []
    },
    {
      "cell_type": "code",
      "metadata": {
        "colab": {
          "base_uri": "https://localhost:8080/"
        },
        "id": "-I8sbkffzETN",
        "outputId": "e388c814-189f-47f2-a526-6a4b588708b6"
      },
      "source": [
        "#Save the train/test splits into a dictionary\n",
        "\n",
        "ML_train_test= {}\n",
        "ML_train_test['X_train1']=(X_train1)\n",
        "ML_train_test['X_test1']=(X_test1)\n",
        "ML_train_test['y_train1']=(y_train1)\n",
        "ML_train_test['y_test1']=(y_test1)\n",
        "\n",
        "ML_train_test['X_train2']=(X_train2)\n",
        "ML_train_test['X_test2']=(X_test2)\n",
        "ML_train_test['y_train2']=(y_train2)\n",
        "ML_train_test['y_test2']=(y_test2)\n",
        "\n",
        "ML_train_test['X_train3']=(X_train3)\n",
        "ML_train_test['X_test3']=(X_test3)\n",
        "ML_train_test['y_train3']=(y_train3)\n",
        "ML_train_test['y_test3']=(y_test3)\n",
        "\n",
        "#write the dictionary to a pickle file\n",
        "pklname = \"MLlit_train_test.pkl\"\n",
        "joblib.dump(ML_train_test, pklname)"
      ],
      "execution_count": null,
      "outputs": [
        {
          "output_type": "execute_result",
          "data": {
            "text/plain": [
              "['MLlit_train_test.pkl']"
            ]
          },
          "metadata": {},
          "execution_count": 34
        }
      ]
    },
    {
      "cell_type": "markdown",
      "source": [
        "**Naive Baselines**: one that always assigns the most frequent century (FREQUENT) and a random one that assigns a century at random (RANDOM)"
      ],
      "metadata": {
        "id": "aXAHdefh5yxF"
      }
    },
    {
      "cell_type": "code",
      "metadata": {
        "colab": {
          "base_uri": "https://localhost:8080/"
        },
        "id": "FjxUEexZL76f",
        "outputId": "e5bacb9d-5df4-4759-cf72-edce7eb1ed61"
      },
      "source": [
        "#Create a baseline that  always predicts the most frequent class in the training set.\n",
        "from sklearn.dummy import DummyClassifier\n",
        "\n",
        "base_clf= DummyClassifier(strategy='most_frequent', random_state=0)\n",
        "\n",
        "#create a classifier that always predicts the most frequent class in the 1st training set\n",
        "# and test it on the 1st test set\n",
        "baseline1=base_clf.fit(X_train1, y_train1)\n",
        "base_prediction1=base_clf.predict(X_test1)\n",
        "base_drep1=classification_report(y_test1,base_prediction1,output_dict=True)\n",
        "\n",
        "#create a classifier that always predicts the most frequent class in the 2nd training set\n",
        "# and test it on the 2nd test set\n",
        "baseline2=base_clf.fit(X_train2, y_train2)\n",
        "base_prediction2=base_clf.predict(X_test2)\n",
        "base_drep2=classification_report(y_test2,base_prediction2,output_dict=True)\n",
        "\n",
        "#create a classifier that always predicts the most frequent class in the 3rd training set\n",
        "# and test it on the 3rd test set\n",
        "baseline3=base_clf.fit(X_train3, y_train3)\n",
        "base_prediction3=base_clf.predict(X_test3)\n",
        "base_drep3=classification_report(y_test3,base_prediction3,output_dict=True)\n",
        "\n",
        "#compute the mean scores of the three naive classifiers\n",
        "df = pd.DataFrame([base_drep1,base_drep2,base_drep3],index=['rep1', 'rep2', 'rep3'])\n",
        "lis=[]\n",
        "for i in df:\n",
        "  lis.append(pd.DataFrame(df[i].apply(pd.Series)))\n",
        "\n",
        "base_dreport=pd.DataFrame()\n",
        "for i in lis:\n",
        "  a=i.mean()\n",
        "  base_dreport=base_dreport.append(a,ignore_index=True)\n",
        "\n",
        "base_dreport=base_dreport.rename(columns={base_dreport.columns[4]: \"mean score\"})\n",
        "base_dreport=base_dreport.drop(columns=['support'])\n",
        "base_dreport.index= [i for i in df.columns] \n",
        "print(base_dreport)\n",
        "\n",
        "#save the scores to an excel file\n",
        "base_dreport.to_excel(\"literML_outputs.xlsx\",\n",
        "             sheet_name='most_frequent') "
      ],
      "execution_count": null,
      "outputs": [
        {
          "output_type": "stream",
          "name": "stdout",
          "text": [
            "              f1-score  precision    recall  mean score\n",
            "1stAD         0.000000   0.000000  0.000000         NaN\n",
            "1stBC         0.000000   0.000000  0.000000         NaN\n",
            "2ndAD         0.484848   0.320261  1.000000         NaN\n",
            "3rdAD         0.000000   0.000000  0.000000         NaN\n",
            "4thAD         0.000000   0.000000  0.000000         NaN\n",
            "6thAD         0.000000   0.000000  0.000000         NaN\n",
            "7thAD         0.000000   0.000000  0.000000         NaN\n",
            "8thAD         0.000000   0.000000  0.000000         NaN\n",
            "9thAD         0.000000   0.000000  0.000000         NaN\n",
            "accuracy           NaN        NaN       NaN    0.320261\n",
            "macro avg     0.057311   0.037877  0.117989         NaN\n",
            "weighted avg  0.155674   0.102909  0.320261         NaN\n",
            "5thAD         0.000000   0.000000  0.000000         NaN\n"
          ]
        },
        {
          "output_type": "stream",
          "name": "stderr",
          "text": [
            "/usr/local/lib/python3.7/dist-packages/sklearn/metrics/_classification.py:1272: UndefinedMetricWarning: Precision and F-score are ill-defined and being set to 0.0 in labels with no predicted samples. Use `zero_division` parameter to control this behavior.\n",
            "  _warn_prf(average, modifier, msg_start, len(result))\n"
          ]
        }
      ]
    },
    {
      "cell_type": "code",
      "metadata": {
        "colab": {
          "base_uri": "https://localhost:8080/"
        },
        "id": "iR46CyyPkk4Q",
        "outputId": "8be98a6a-a6c0-42c1-8fa9-96c9c63172af"
      },
      "source": [
        "#Create a baseline that assigns a century at random.\n",
        "\n",
        "base2_clf= DummyClassifier(strategy='uniform', random_state=0)\n",
        "\n",
        "#create a classifier that always assigns a century at random\n",
        "# and test it on the 1st test set\n",
        "baseline1=base2_clf.fit(X_train1, y_train1)\n",
        "base_prediction1=base2_clf.predict(X_test1)\n",
        "base_drep1=classification_report(y_test1,base_prediction1,output_dict=True)\n",
        "\n",
        "#create a classifier that always assigns a century at random\n",
        "# and test it on the 2nd test set\n",
        "baseline2=base2_clf.fit(X_train2, y_train2)\n",
        "base_prediction2=base2_clf.predict(X_test2)\n",
        "base_drep2=classification_report(y_test2,base_prediction2,output_dict=True)\n",
        "\n",
        "#create a classifier that always assigns a century at random\n",
        "# and test it on the 3rd test set\n",
        "baseline3=base2_clf.fit(X_train3, y_train3)\n",
        "base_prediction3=base2_clf.predict(X_test3)\n",
        "base_drep3=classification_report(y_test3,base_prediction3,output_dict=True)\n",
        "\n",
        "#compute the mean scores of the three naive classifiers\n",
        "df = pd.DataFrame([base_drep1,base_drep2,base_drep3],index=['rep1', 'rep2', 'rep3'])\n",
        "lis=[]\n",
        "for i in df:\n",
        "  lis.append(pd.DataFrame(df[i].apply(pd.Series)))\n",
        "\n",
        "base_dreport=pd.DataFrame()\n",
        "for i in lis:\n",
        "  a=i.mean()\n",
        "  base_dreport=base_dreport.append(a,ignore_index=True)\n",
        "\n",
        "base_dreport=base_dreport.rename(columns={base_dreport.columns[4]: \"mean score\"})\n",
        "base_dreport=base_dreport.drop(columns=['support'])\n",
        "base_dreport.index= [i for i in df.columns] \n",
        "print(base_dreport)\n",
        "\n",
        "#add the new outputs to the excel file\n",
        "with pd.ExcelWriter(\"literML_outputs.xlsx\", engine='openpyxl', mode='a') as writer:\n",
        "     base_dreport.to_excel(writer,\n",
        "                       sheet_name=\"random\")"
      ],
      "execution_count": null,
      "outputs": [
        {
          "output_type": "stream",
          "name": "stdout",
          "text": [
            "              f1-score  precision    recall  mean score\n",
            "1stAD         0.171717   0.142857  0.216667         NaN\n",
            "1stBC         0.000000   0.000000  0.000000         NaN\n",
            "2ndAD         0.126984   0.333333  0.078431         NaN\n",
            "3rdAD         0.118421   0.183333  0.093651         NaN\n",
            "4thAD         0.095238   0.066667  0.166667         NaN\n",
            "5thAD         0.000000   0.000000  0.000000         NaN\n",
            "6thAD         0.000000   0.000000  0.000000         NaN\n",
            "7thAD         0.000000   0.000000  0.000000         NaN\n",
            "8thAD         0.000000   0.000000  0.000000         NaN\n",
            "9thAD         0.051282   0.055556  0.047619         NaN\n",
            "accuracy           NaN        NaN       NaN    0.091503\n",
            "macro avg     0.056364   0.078175  0.060303         NaN\n",
            "weighted avg  0.105679   0.188998  0.091503         NaN\n"
          ]
        },
        {
          "output_type": "stream",
          "name": "stderr",
          "text": [
            "/usr/local/lib/python3.7/dist-packages/sklearn/metrics/_classification.py:1272: UndefinedMetricWarning: Precision and F-score are ill-defined and being set to 0.0 in labels with no predicted samples. Use `zero_division` parameter to control this behavior.\n",
            "  _warn_prf(average, modifier, msg_start, len(result))\n",
            "/usr/local/lib/python3.7/dist-packages/sklearn/metrics/_classification.py:1272: UndefinedMetricWarning: Recall and F-score are ill-defined and being set to 0.0 in labels with no true samples. Use `zero_division` parameter to control this behavior.\n",
            "  _warn_prf(average, modifier, msg_start, len(result))\n"
          ]
        }
      ]
    },
    {
      "cell_type": "markdown",
      "source": [
        "Results of the machine learning"
      ],
      "metadata": {
        "id": "lvne_V2W8DHK"
      }
    },
    {
      "cell_type": "code",
      "metadata": {
        "colab": {
          "base_uri": "https://localhost:8080/"
        },
        "id": "Wb57kqYlNv_L",
        "outputId": "a4d27678-baef-433c-9230-599f23951371"
      },
      "source": [
        "##Classification Cross Validation\n",
        "\n",
        "classifiers=[neighbors.KNeighborsClassifier(),svm.SVC(probability=True),tree.DecisionTreeClassifier(),\n",
        "        RandomForestClassifier(),GaussianProcessClassifier(),MLPClassifier()]\n",
        "\n",
        "for classifier in classifiers:\n",
        "\n",
        "  #get the name of each classifier\n",
        "  name = classifier.__class__.__name__\n",
        "\n",
        "  #train each classifier on the 1st training set and test it on the 1st test set\n",
        "  classifier.fit(X_train1, y_train1)\n",
        "  #save the classifier\n",
        "  dump(classifier, f'{name}1_MLlit.joblib')\n",
        "  #test the classifier\n",
        "  predictions1=classifier.predict(X_test1)\n",
        "  rep1=classification_report(y_test1, predictions1,output_dict=True)\n",
        "\n",
        "  #train each classifier on the 2nd training set and test it on the 2nd test set\n",
        "  classifier.fit(X_train2, y_train2)\n",
        "  #save the classifier\n",
        "  dump(classifier, f'{name}2_MLlit.joblib')\n",
        "  #test the classifier\n",
        "  predictions2=classifier.predict(X_test2)\n",
        "  rep2=classification_report(y_test2, predictions2,output_dict=True)\n",
        "  \n",
        "  #train each classifier on the 3rd training set and test it on the 3rd test set\n",
        "  classifier.fit(X_train3, y_train3)\n",
        "  #save the classifier\n",
        "  dump(classifier, f'{name}3_MLlit.joblib')\n",
        "  #test the classifier\n",
        "  predictions3=classifier.predict(X_test3)\n",
        "  rep3=classification_report(y_test3, predictions3,output_dict=True)\n",
        "\n",
        "  #print the name of each classifier along with its three classification reports and compute their mean scores\n",
        "  df = pd.DataFrame([rep1,rep2,rep3],index=['rep1', 'rep2', 'rep3'])\n",
        "  lis=[]\n",
        "  for i in df:\n",
        "    lis.append(pd.DataFrame(df[i].apply(pd.Series)))\n",
        "\n",
        "  report=pd.DataFrame()\n",
        "  for i in lis:\n",
        "    a=i.mean()\n",
        "    report=report.append(a,ignore_index=True)\n",
        "  report=report.rename(columns={report.columns[4]: \"mean score\"})\n",
        "  report=report.drop(columns=['support'])\n",
        "  report.index= [i for i in df.columns] \n",
        "\n",
        "  print(\"********************************\")\n",
        "  print(name,)\n",
        "  print(\"********************************\")\n",
        "  print(report)\n",
        "  print(\"********************************\")\n",
        "  print(rep1)\n",
        "  print(rep2)\n",
        "  print(rep3)\n",
        "  \n",
        "  #save the outputs to the excel file\n",
        "  with pd.ExcelWriter(\"literML_outputs.xlsx\", engine='openpyxl', mode='a') as writer:\n",
        "      report.to_excel(writer,\n",
        "                      sheet_name=name)"
      ],
      "execution_count": null,
      "outputs": [
        {
          "output_type": "stream",
          "name": "stderr",
          "text": [
            "/usr/local/lib/python3.7/dist-packages/sklearn/metrics/_classification.py:1272: UndefinedMetricWarning: Precision and F-score are ill-defined and being set to 0.0 in labels with no predicted samples. Use `zero_division` parameter to control this behavior.\n",
            "  _warn_prf(average, modifier, msg_start, len(result))\n",
            "/usr/local/lib/python3.7/dist-packages/sklearn/metrics/_classification.py:1272: UndefinedMetricWarning: Precision and F-score are ill-defined and being set to 0.0 in labels with no predicted samples. Use `zero_division` parameter to control this behavior.\n",
            "  _warn_prf(average, modifier, msg_start, len(result))\n",
            "/usr/local/lib/python3.7/dist-packages/sklearn/metrics/_classification.py:1272: UndefinedMetricWarning: Precision and F-score are ill-defined and being set to 0.0 in labels with no predicted samples. Use `zero_division` parameter to control this behavior.\n",
            "  _warn_prf(average, modifier, msg_start, len(result))\n"
          ]
        },
        {
          "output_type": "stream",
          "name": "stdout",
          "text": [
            "********************************\n",
            "KNeighborsClassifier\n",
            "********************************\n",
            "              f1-score  precision    recall  mean score\n",
            "1stAD         0.066667   0.055556  0.083333         NaN\n",
            "1stBC         0.000000   0.000000  0.000000         NaN\n",
            "2ndAD         0.528664   0.444444  0.653595         NaN\n",
            "3rdAD         0.410245   0.611111  0.321429         NaN\n",
            "4thAD         0.459836   0.450794  0.500000         NaN\n",
            "6thAD         0.000000   0.000000  0.000000         NaN\n",
            "7thAD         0.000000   0.000000  0.000000         NaN\n",
            "8thAD         0.688889   0.611111  0.833333         NaN\n",
            "9thAD         0.514815   0.481481  0.562831         NaN\n",
            "accuracy           NaN        NaN       NaN    0.457516\n",
            "macro avg     0.335581   0.342963  0.367847         NaN\n",
            "weighted avg  0.429531   0.455291  0.457516         NaN\n",
            "5thAD         0.666667   1.000000  0.500000         NaN\n",
            "********************************\n",
            "{'1stAD': {'precision': 0.16666666666666666, 'recall': 0.25, 'f1-score': 0.2, 'support': 4}, '1stBC': {'precision': 0.0, 'recall': 0.0, 'f1-score': 0.0, 'support': 1}, '2ndAD': {'precision': 0.4166666666666667, 'recall': 0.6666666666666666, 'f1-score': 0.5128205128205129, 'support': 15}, '3rdAD': {'precision': 0.8333333333333334, 'recall': 0.3333333333333333, 'f1-score': 0.47619047619047616, 'support': 15}, '4thAD': {'precision': 0.4, 'recall': 0.5, 'f1-score': 0.4444444444444445, 'support': 4}, '6thAD': {'precision': 0.0, 'recall': 0.0, 'f1-score': 0.0, 'support': 1}, '7thAD': {'precision': 0.0, 'recall': 0.0, 'f1-score': 0.0, 'support': 1}, '8thAD': {'precision': 1.0, 'recall': 1.0, 'f1-score': 1.0, 'support': 1}, '9thAD': {'precision': 0.7777777777777778, 'recall': 0.7777777777777778, 'f1-score': 0.7777777777777778, 'support': 9}, 'accuracy': 0.5098039215686274, 'macro avg': {'precision': 0.3993827160493827, 'recall': 0.3919753086419753, 'f1-score': 0.37902591235924565, 'support': 51}, 'weighted avg': {'precision': 0.5689542483660132, 'recall': 0.5098039215686274, 'f1-score': 0.4982929924106395, 'support': 51}}\n",
            "{'1stAD': {'precision': 0.0, 'recall': 0.0, 'f1-score': 0.0, 'support': 2}, '1stBC': {'precision': 0.0, 'recall': 0.0, 'f1-score': 0.0, 'support': 1}, '2ndAD': {'precision': 0.4583333333333333, 'recall': 0.6470588235294118, 'f1-score': 0.5365853658536585, 'support': 17}, '3rdAD': {'precision': 0.5, 'recall': 0.4166666666666667, 'f1-score': 0.45454545454545453, 'support': 12}, '4thAD': {'precision': 0.6666666666666666, 'recall': 0.5, 'f1-score': 0.5714285714285715, 'support': 4}, '5thAD': {'precision': 1.0, 'recall': 0.5, 'f1-score': 0.6666666666666666, 'support': 2}, '6thAD': {'precision': 0.0, 'recall': 0.0, 'f1-score': 0.0, 'support': 3}, '7thAD': {'precision': 0.0, 'recall': 0.0, 'f1-score': 0.0, 'support': 1}, '8thAD': {'precision': 0.3333333333333333, 'recall': 0.5, 'f1-score': 0.4, 'support': 2}, '9thAD': {'precision': 0.25, 'recall': 0.2857142857142857, 'f1-score': 0.26666666666666666, 'support': 7}, 'accuracy': 0.43137254901960786, 'macro avg': {'precision': 0.32083333333333336, 'recall': 0.2849439775910364, 'f1-score': 0.2895892725161018, 'support': 51}, 'weighted avg': {'precision': 0.40931372549019607, 'recall': 0.43137254901960786, 'f1-score': 0.40906295999552816, 'support': 51}}\n",
            "{'1stAD': {'precision': 0.0, 'recall': 0.0, 'f1-score': 0.0, 'support': 5}, '2ndAD': {'precision': 0.4583333333333333, 'recall': 0.6470588235294118, 'f1-score': 0.5365853658536585, 'support': 17}, '3rdAD': {'precision': 0.5, 'recall': 0.21428571428571427, 'f1-score': 0.3, 'support': 14}, '4thAD': {'precision': 0.2857142857142857, 'recall': 0.5, 'f1-score': 0.36363636363636365, 'support': 4}, '6thAD': {'precision': 0.0, 'recall': 0.0, 'f1-score': 0.0, 'support': 2}, '8thAD': {'precision': 0.5, 'recall': 1.0, 'f1-score': 0.6666666666666666, 'support': 1}, '9thAD': {'precision': 0.4166666666666667, 'recall': 0.625, 'f1-score': 0.5, 'support': 8}, 'accuracy': 0.43137254901960786, 'macro avg': {'precision': 0.3086734693877551, 'recall': 0.42662064825930374, 'f1-score': 0.3381269137366698, 'support': 51}, 'weighted avg': {'precision': 0.38760504201680673, 'recall': 0.43137254901960786, 'f1-score': 0.38123849687694733, 'support': 51}}\n"
          ]
        },
        {
          "output_type": "stream",
          "name": "stderr",
          "text": [
            "/usr/local/lib/python3.7/dist-packages/sklearn/metrics/_classification.py:1272: UndefinedMetricWarning: Precision and F-score are ill-defined and being set to 0.0 in labels with no predicted samples. Use `zero_division` parameter to control this behavior.\n",
            "  _warn_prf(average, modifier, msg_start, len(result))\n",
            "/usr/local/lib/python3.7/dist-packages/sklearn/metrics/_classification.py:1272: UndefinedMetricWarning: Precision and F-score are ill-defined and being set to 0.0 in labels with no predicted samples. Use `zero_division` parameter to control this behavior.\n",
            "  _warn_prf(average, modifier, msg_start, len(result))\n",
            "/usr/local/lib/python3.7/dist-packages/sklearn/metrics/_classification.py:1272: UndefinedMetricWarning: Precision and F-score are ill-defined and being set to 0.0 in labels with no predicted samples. Use `zero_division` parameter to control this behavior.\n",
            "  _warn_prf(average, modifier, msg_start, len(result))\n"
          ]
        },
        {
          "output_type": "stream",
          "name": "stdout",
          "text": [
            "********************************\n",
            "SVC\n",
            "********************************\n",
            "              f1-score  precision    recall  mean score\n",
            "1stAD         0.000000   0.000000  0.000000         NaN\n",
            "1stBC         0.000000   0.000000  0.000000         NaN\n",
            "2ndAD         0.516829   0.364515  0.899346         NaN\n",
            "3rdAD         0.325397   0.496296  0.253175         NaN\n",
            "4thAD         0.000000   0.000000  0.000000         NaN\n",
            "6thAD         0.000000   0.000000  0.000000         NaN\n",
            "7thAD         0.000000   0.000000  0.000000         NaN\n",
            "8thAD         0.000000   0.000000  0.000000         NaN\n",
            "9thAD         0.494017   0.866667  0.394180         NaN\n",
            "accuracy           NaN        NaN       NaN    0.411765\n",
            "macro avg     0.155870   0.201016  0.180228         NaN\n",
            "weighted avg  0.325680   0.387591  0.411765         NaN\n",
            "5thAD         0.000000   0.000000  0.000000         NaN\n",
            "********************************\n",
            "{'1stAD': {'precision': 0.0, 'recall': 0.0, 'f1-score': 0.0, 'support': 4}, '1stBC': {'precision': 0.0, 'recall': 0.0, 'f1-score': 0.0, 'support': 1}, '2ndAD': {'precision': 0.3111111111111111, 'recall': 0.9333333333333333, 'f1-score': 0.4666666666666667, 'support': 15}, '3rdAD': {'precision': 0.6, 'recall': 0.2, 'f1-score': 0.3, 'support': 15}, '4thAD': {'precision': 0.0, 'recall': 0.0, 'f1-score': 0.0, 'support': 4}, '6thAD': {'precision': 0.0, 'recall': 0.0, 'f1-score': 0.0, 'support': 1}, '7thAD': {'precision': 0.0, 'recall': 0.0, 'f1-score': 0.0, 'support': 1}, '8thAD': {'precision': 0.0, 'recall': 0.0, 'f1-score': 0.0, 'support': 1}, '9thAD': {'precision': 1.0, 'recall': 0.1111111111111111, 'f1-score': 0.19999999999999998, 'support': 9}, 'accuracy': 0.35294117647058826, 'macro avg': {'precision': 0.21234567901234566, 'recall': 0.13827160493827162, 'f1-score': 0.1074074074074074, 'support': 51}, 'weighted avg': {'precision': 0.4444444444444445, 'recall': 0.35294117647058826, 'f1-score': 0.2607843137254902, 'support': 51}}\n",
            "{'1stAD': {'precision': 0.0, 'recall': 0.0, 'f1-score': 0.0, 'support': 2}, '1stBC': {'precision': 0.0, 'recall': 0.0, 'f1-score': 0.0, 'support': 1}, '2ndAD': {'precision': 0.43243243243243246, 'recall': 0.9411764705882353, 'f1-score': 0.5925925925925927, 'support': 17}, '3rdAD': {'precision': 0.5555555555555556, 'recall': 0.4166666666666667, 'f1-score': 0.4761904761904762, 'support': 12}, '4thAD': {'precision': 0.0, 'recall': 0.0, 'f1-score': 0.0, 'support': 4}, '5thAD': {'precision': 0.0, 'recall': 0.0, 'f1-score': 0.0, 'support': 2}, '6thAD': {'precision': 0.0, 'recall': 0.0, 'f1-score': 0.0, 'support': 3}, '7thAD': {'precision': 0.0, 'recall': 0.0, 'f1-score': 0.0, 'support': 1}, '8thAD': {'precision': 0.0, 'recall': 0.0, 'f1-score': 0.0, 'support': 2}, '9thAD': {'precision': 0.8, 'recall': 0.5714285714285714, 'f1-score': 0.6666666666666666, 'support': 7}, 'accuracy': 0.49019607843137253, 'macro avg': {'precision': 0.1787987987987988, 'recall': 0.19292717086834735, 'f1-score': 0.17354497354497353, 'support': 51}, 'weighted avg': {'precision': 0.38466701996113767, 'recall': 0.49019607843137253, 'f1-score': 0.40107895009855793, 'support': 51}}\n",
            "{'1stAD': {'precision': 0.0, 'recall': 0.0, 'f1-score': 0.0, 'support': 5}, '2ndAD': {'precision': 0.35, 'recall': 0.8235294117647058, 'f1-score': 0.4912280701754386, 'support': 17}, '3rdAD': {'precision': 0.3333333333333333, 'recall': 0.14285714285714285, 'f1-score': 0.2, 'support': 14}, '4thAD': {'precision': 0.0, 'recall': 0.0, 'f1-score': 0.0, 'support': 4}, '6thAD': {'precision': 0.0, 'recall': 0.0, 'f1-score': 0.0, 'support': 2}, '8thAD': {'precision': 0.0, 'recall': 0.0, 'f1-score': 0.0, 'support': 1}, '9thAD': {'precision': 0.8, 'recall': 0.5, 'f1-score': 0.6153846153846154, 'support': 8}, 'accuracy': 0.39215686274509803, 'macro avg': {'precision': 0.2119047619047619, 'recall': 0.20948379351740695, 'f1-score': 0.1866589550800077, 'support': 51}, 'weighted avg': {'precision': 0.33366013071895423, 'recall': 0.39215686274509803, 'f1-score': 0.31517557090312515, 'support': 51}}\n",
            "********************************\n",
            "DecisionTreeClassifier\n",
            "********************************\n",
            "              f1-score  precision    recall  mean score\n",
            "1stAD         0.000000   0.000000  0.000000         NaN\n",
            "1stBC         0.000000   0.000000  0.000000         NaN\n",
            "2ndAD         0.324183   0.324183  0.324183         NaN\n",
            "3rdAD         0.275794   0.275824  0.301587         NaN\n",
            "4thAD         0.268519   0.233333  0.333333         NaN\n",
            "5thAD         0.000000   0.000000  0.000000         NaN\n",
            "6thAD         0.000000   0.000000  0.000000         NaN\n",
            "7thAD         0.000000   0.000000  0.000000         NaN\n",
            "8thAD         0.000000   0.000000  0.000000         NaN\n",
            "9thAD         0.538961   0.683333  0.457672         NaN\n",
            "accuracy           NaN        NaN       NaN    0.281046\n",
            "macro avg     0.145516   0.156532  0.146463         NaN\n",
            "weighted avg  0.283488   0.304701  0.281046         NaN\n",
            "********************************\n",
            "{'1stAD': {'precision': 0.0, 'recall': 0.0, 'f1-score': 0.0, 'support': 4}, '1stBC': {'precision': 0.0, 'recall': 0.0, 'f1-score': 0.0, 'support': 1}, '2ndAD': {'precision': 0.26666666666666666, 'recall': 0.26666666666666666, 'f1-score': 0.26666666666666666, 'support': 15}, '3rdAD': {'precision': 0.38461538461538464, 'recall': 0.3333333333333333, 'f1-score': 0.3571428571428571, 'support': 15}, '4thAD': {'precision': 0.25, 'recall': 0.5, 'f1-score': 0.3333333333333333, 'support': 4}, '5thAD': {'precision': 0.0, 'recall': 0.0, 'f1-score': 0.0, 'support': 0}, '6thAD': {'precision': 0.0, 'recall': 0.0, 'f1-score': 0.0, 'support': 1}, '7thAD': {'precision': 0.0, 'recall': 0.0, 'f1-score': 0.0, 'support': 1}, '8thAD': {'precision': 0.0, 'recall': 0.0, 'f1-score': 0.0, 'support': 1}, '9thAD': {'precision': 0.8, 'recall': 0.4444444444444444, 'f1-score': 0.5714285714285714, 'support': 9}, 'accuracy': 0.29411764705882354, 'macro avg': {'precision': 0.17012820512820515, 'recall': 0.15444444444444444, 'f1-score': 0.15285714285714286, 'support': 51}, 'weighted avg': {'precision': 0.3523378582202112, 'recall': 0.29411764705882354, 'f1-score': 0.3104575163398693, 'support': 51}}\n",
            "{'1stAD': {'precision': 0.0, 'recall': 0.0, 'f1-score': 0.0, 'support': 2}, '1stBC': {'precision': 0.0, 'recall': 0.0, 'f1-score': 0.0, 'support': 1}, '2ndAD': {'precision': 0.23529411764705882, 'recall': 0.23529411764705882, 'f1-score': 0.23529411764705882, 'support': 17}, '3rdAD': {'precision': 0.3, 'recall': 0.5, 'f1-score': 0.37499999999999994, 'support': 12}, '4thAD': {'precision': 0.25, 'recall': 0.25, 'f1-score': 0.25, 'support': 4}, '5thAD': {'precision': 0.0, 'recall': 0.0, 'f1-score': 0.0, 'support': 2}, '6thAD': {'precision': 0.0, 'recall': 0.0, 'f1-score': 0.0, 'support': 3}, '7thAD': {'precision': 0.0, 'recall': 0.0, 'f1-score': 0.0, 'support': 1}, '8thAD': {'precision': 0.0, 'recall': 0.0, 'f1-score': 0.0, 'support': 2}, '9thAD': {'precision': 0.75, 'recall': 0.42857142857142855, 'f1-score': 0.5454545454545454, 'support': 7}, 'accuracy': 0.27450980392156865, 'macro avg': {'precision': 0.15352941176470586, 'recall': 0.14138655462184874, 'f1-score': 0.14057486631016042, 'support': 51}, 'weighted avg': {'precision': 0.27156862745098037, 'recall': 0.27450980392156865, 'f1-score': 0.2611408199643494, 'support': 51}}\n",
            "{'1stAD': {'precision': 0.0, 'recall': 0.0, 'f1-score': 0.0, 'support': 5}, '2ndAD': {'precision': 0.47058823529411764, 'recall': 0.47058823529411764, 'f1-score': 0.47058823529411764, 'support': 17}, '3rdAD': {'precision': 0.14285714285714285, 'recall': 0.07142857142857142, 'f1-score': 0.09523809523809523, 'support': 14}, '4thAD': {'precision': 0.2, 'recall': 0.25, 'f1-score': 0.22222222222222224, 'support': 4}, '5thAD': {'precision': 0.0, 'recall': 0.0, 'f1-score': 0.0, 'support': 0}, '6thAD': {'precision': 0.0, 'recall': 0.0, 'f1-score': 0.0, 'support': 2}, '7thAD': {'precision': 0.0, 'recall': 0.0, 'f1-score': 0.0, 'support': 0}, '8thAD': {'precision': 0.0, 'recall': 0.0, 'f1-score': 0.0, 'support': 1}, '9thAD': {'precision': 0.5, 'recall': 0.5, 'f1-score': 0.5, 'support': 8}, 'accuracy': 0.27450980392156865, 'macro avg': {'precision': 0.14593837535014006, 'recall': 0.14355742296918766, 'f1-score': 0.14311650586160388, 'support': 51}, 'weighted avg': {'precision': 0.2901960784313726, 'recall': 0.27450980392156865, 'f1-score': 0.27886710239651413, 'support': 51}}\n"
          ]
        },
        {
          "output_type": "stream",
          "name": "stderr",
          "text": [
            "/usr/local/lib/python3.7/dist-packages/sklearn/metrics/_classification.py:1272: UndefinedMetricWarning: Precision and F-score are ill-defined and being set to 0.0 in labels with no predicted samples. Use `zero_division` parameter to control this behavior.\n",
            "  _warn_prf(average, modifier, msg_start, len(result))\n",
            "/usr/local/lib/python3.7/dist-packages/sklearn/metrics/_classification.py:1272: UndefinedMetricWarning: Recall and F-score are ill-defined and being set to 0.0 in labels with no true samples. Use `zero_division` parameter to control this behavior.\n",
            "  _warn_prf(average, modifier, msg_start, len(result))\n",
            "/usr/local/lib/python3.7/dist-packages/sklearn/metrics/_classification.py:1272: UndefinedMetricWarning: Precision and F-score are ill-defined and being set to 0.0 in labels with no predicted samples. Use `zero_division` parameter to control this behavior.\n",
            "  _warn_prf(average, modifier, msg_start, len(result))\n",
            "/usr/local/lib/python3.7/dist-packages/sklearn/metrics/_classification.py:1272: UndefinedMetricWarning: Recall and F-score are ill-defined and being set to 0.0 in labels with no true samples. Use `zero_division` parameter to control this behavior.\n",
            "  _warn_prf(average, modifier, msg_start, len(result))\n",
            "/usr/local/lib/python3.7/dist-packages/sklearn/metrics/_classification.py:1272: UndefinedMetricWarning: Precision and F-score are ill-defined and being set to 0.0 in labels with no predicted samples. Use `zero_division` parameter to control this behavior.\n",
            "  _warn_prf(average, modifier, msg_start, len(result))\n",
            "/usr/local/lib/python3.7/dist-packages/sklearn/metrics/_classification.py:1272: UndefinedMetricWarning: Precision and F-score are ill-defined and being set to 0.0 in labels with no predicted samples. Use `zero_division` parameter to control this behavior.\n",
            "  _warn_prf(average, modifier, msg_start, len(result))\n",
            "/usr/local/lib/python3.7/dist-packages/sklearn/metrics/_classification.py:1272: UndefinedMetricWarning: Precision and F-score are ill-defined and being set to 0.0 in labels with no predicted samples. Use `zero_division` parameter to control this behavior.\n",
            "  _warn_prf(average, modifier, msg_start, len(result))\n"
          ]
        },
        {
          "output_type": "stream",
          "name": "stdout",
          "text": [
            "********************************\n",
            "RandomForestClassifier\n",
            "********************************\n",
            "              f1-score  precision    recall  mean score\n",
            "1stAD         0.000000   0.000000  0.000000         NaN\n",
            "1stBC         0.000000   0.000000  0.000000         NaN\n",
            "2ndAD         0.417842   0.331373  0.567320         NaN\n",
            "3rdAD         0.335376   0.309691  0.382540         NaN\n",
            "4thAD         0.488889   1.000000  0.333333         NaN\n",
            "6thAD         0.000000   0.000000  0.000000         NaN\n",
            "7thAD         0.000000   0.000000  0.000000         NaN\n",
            "8thAD         0.333333   0.333333  0.333333         NaN\n",
            "9thAD         0.730920   0.958333  0.610450         NaN\n",
            "accuracy           NaN        NaN       NaN    0.418301\n",
            "macro avg     0.304253   0.387123  0.288549         NaN\n",
            "weighted avg  0.391367   0.435394  0.418301         NaN\n",
            "5thAD         0.666667   1.000000  0.500000         NaN\n",
            "********************************\n",
            "{'1stAD': {'precision': 0.0, 'recall': 0.0, 'f1-score': 0.0, 'support': 4}, '1stBC': {'precision': 0.0, 'recall': 0.0, 'f1-score': 0.0, 'support': 1}, '2ndAD': {'precision': 0.28, 'recall': 0.4666666666666667, 'f1-score': 0.35000000000000003, 'support': 15}, '3rdAD': {'precision': 0.23529411764705882, 'recall': 0.26666666666666666, 'f1-score': 0.25, 'support': 15}, '4thAD': {'precision': 1.0, 'recall': 0.25, 'f1-score': 0.4, 'support': 4}, '6thAD': {'precision': 0.0, 'recall': 0.0, 'f1-score': 0.0, 'support': 1}, '7thAD': {'precision': 0.0, 'recall': 0.0, 'f1-score': 0.0, 'support': 1}, '8thAD': {'precision': 0.0, 'recall': 0.0, 'f1-score': 0.0, 'support': 1}, '9thAD': {'precision': 0.875, 'recall': 0.7777777777777778, 'f1-score': 0.823529411764706, 'support': 9}, 'accuracy': 0.37254901960784315, 'macro avg': {'precision': 0.2655882352941177, 'recall': 0.195679012345679, 'f1-score': 0.20261437908496735, 'support': 51}, 'weighted avg': {'precision': 0.3844002306805075, 'recall': 0.37254901960784315, 'f1-score': 0.35317185697808534, 'support': 51}}\n",
            "{'1stAD': {'precision': 0.0, 'recall': 0.0, 'f1-score': 0.0, 'support': 2}, '1stBC': {'precision': 0.0, 'recall': 0.0, 'f1-score': 0.0, 'support': 1}, '2ndAD': {'precision': 0.37037037037037035, 'recall': 0.5882352941176471, 'f1-score': 0.45454545454545453, 'support': 17}, '3rdAD': {'precision': 0.42105263157894735, 'recall': 0.6666666666666666, 'f1-score': 0.5161290322580646, 'support': 12}, '4thAD': {'precision': 1.0, 'recall': 0.25, 'f1-score': 0.4, 'support': 4}, '5thAD': {'precision': 1.0, 'recall': 0.5, 'f1-score': 0.6666666666666666, 'support': 2}, '6thAD': {'precision': 0.0, 'recall': 0.0, 'f1-score': 0.0, 'support': 3}, '7thAD': {'precision': 0.0, 'recall': 0.0, 'f1-score': 0.0, 'support': 1}, '8thAD': {'precision': 0.0, 'recall': 0.0, 'f1-score': 0.0, 'support': 2}, '9thAD': {'precision': 1.0, 'recall': 0.42857142857142855, 'f1-score': 0.6, 'support': 7}, 'accuracy': 0.45098039215686275, 'macro avg': {'precision': 0.3791423001949318, 'recall': 0.2433473389355742, 'f1-score': 0.26373411534701857, 'support': 51}, 'weighted avg': {'precision': 0.4774299583381111, 'recall': 0.45098039215686275, 'f1-score': 0.4128265577980948, 'support': 51}}\n",
            "{'1stAD': {'precision': 0.0, 'recall': 0.0, 'f1-score': 0.0, 'support': 5}, '2ndAD': {'precision': 0.34375, 'recall': 0.6470588235294118, 'f1-score': 0.4489795918367347, 'support': 17}, '3rdAD': {'precision': 0.2727272727272727, 'recall': 0.21428571428571427, 'f1-score': 0.23999999999999996, 'support': 14}, '4thAD': {'precision': 1.0, 'recall': 0.5, 'f1-score': 0.6666666666666666, 'support': 4}, '6thAD': {'precision': 0.0, 'recall': 0.0, 'f1-score': 0.0, 'support': 2}, '8thAD': {'precision': 1.0, 'recall': 1.0, 'f1-score': 1.0, 'support': 1}, '9thAD': {'precision': 1.0, 'recall': 0.625, 'f1-score': 0.7692307692307693, 'support': 8}, 'accuracy': 0.43137254901960786, 'macro avg': {'precision': 0.5166396103896104, 'recall': 0.42662064825930374, 'f1-score': 0.4464110039620243, 'support': 51}, 'weighted avg': {'precision': 0.4443516042780749, 'recall': 0.43137254901960786, 'f1-score': 0.40810129179877075, 'support': 51}}\n"
          ]
        },
        {
          "output_type": "stream",
          "name": "stderr",
          "text": [
            "/usr/local/lib/python3.7/dist-packages/sklearn/metrics/_classification.py:1272: UndefinedMetricWarning: Precision and F-score are ill-defined and being set to 0.0 in labels with no predicted samples. Use `zero_division` parameter to control this behavior.\n",
            "  _warn_prf(average, modifier, msg_start, len(result))\n",
            "/usr/local/lib/python3.7/dist-packages/sklearn/metrics/_classification.py:1272: UndefinedMetricWarning: Precision and F-score are ill-defined and being set to 0.0 in labels with no predicted samples. Use `zero_division` parameter to control this behavior.\n",
            "  _warn_prf(average, modifier, msg_start, len(result))\n",
            "/usr/local/lib/python3.7/dist-packages/sklearn/metrics/_classification.py:1272: UndefinedMetricWarning: Precision and F-score are ill-defined and being set to 0.0 in labels with no predicted samples. Use `zero_division` parameter to control this behavior.\n",
            "  _warn_prf(average, modifier, msg_start, len(result))\n"
          ]
        },
        {
          "output_type": "stream",
          "name": "stdout",
          "text": [
            "********************************\n",
            "GaussianProcessClassifier\n",
            "********************************\n",
            "              f1-score  precision    recall  mean score\n",
            "1stAD         0.000000   0.000000  0.000000         NaN\n",
            "1stBC         0.000000   0.000000  0.000000         NaN\n",
            "2ndAD         0.478876   0.321591  0.938562         NaN\n",
            "3rdAD         0.225000   0.450000  0.150000         NaN\n",
            "4thAD         0.000000   0.000000  0.000000         NaN\n",
            "6thAD         0.000000   0.000000  0.000000         NaN\n",
            "7thAD         0.000000   0.000000  0.000000         NaN\n",
            "8thAD         0.000000   0.000000  0.000000         NaN\n",
            "9thAD         0.000000   0.000000  0.000000         NaN\n",
            "accuracy           NaN        NaN       NaN    0.339869\n",
            "macro avg     0.080022   0.085080  0.126499         NaN\n",
            "weighted avg  0.212449   0.220866  0.339869         NaN\n",
            "5thAD         0.000000   0.000000  0.000000         NaN\n",
            "********************************\n",
            "{'1stAD': {'precision': 0.0, 'recall': 0.0, 'f1-score': 0.0, 'support': 4}, '1stBC': {'precision': 0.0, 'recall': 0.0, 'f1-score': 0.0, 'support': 1}, '2ndAD': {'precision': 0.30434782608695654, 'recall': 0.9333333333333333, 'f1-score': 0.45901639344262296, 'support': 15}, '3rdAD': {'precision': 0.6, 'recall': 0.2, 'f1-score': 0.3, 'support': 15}, '4thAD': {'precision': 0.0, 'recall': 0.0, 'f1-score': 0.0, 'support': 4}, '6thAD': {'precision': 0.0, 'recall': 0.0, 'f1-score': 0.0, 'support': 1}, '7thAD': {'precision': 0.0, 'recall': 0.0, 'f1-score': 0.0, 'support': 1}, '8thAD': {'precision': 0.0, 'recall': 0.0, 'f1-score': 0.0, 'support': 1}, '9thAD': {'precision': 0.0, 'recall': 0.0, 'f1-score': 0.0, 'support': 9}, 'accuracy': 0.3333333333333333, 'macro avg': {'precision': 0.10048309178743961, 'recall': 0.1259259259259259, 'f1-score': 0.08433515482695811, 'support': 51}, 'weighted avg': {'precision': 0.26598465473145777, 'recall': 0.3333333333333333, 'f1-score': 0.2232401157184185, 'support': 51}}\n",
            "{'1stAD': {'precision': 0.0, 'recall': 0.0, 'f1-score': 0.0, 'support': 2}, '1stBC': {'precision': 0.0, 'recall': 0.0, 'f1-score': 0.0, 'support': 1}, '2ndAD': {'precision': 0.3404255319148936, 'recall': 0.9411764705882353, 'f1-score': 0.5, 'support': 17}, '3rdAD': {'precision': 0.75, 'recall': 0.25, 'f1-score': 0.375, 'support': 12}, '4thAD': {'precision': 0.0, 'recall': 0.0, 'f1-score': 0.0, 'support': 4}, '5thAD': {'precision': 0.0, 'recall': 0.0, 'f1-score': 0.0, 'support': 2}, '6thAD': {'precision': 0.0, 'recall': 0.0, 'f1-score': 0.0, 'support': 3}, '7thAD': {'precision': 0.0, 'recall': 0.0, 'f1-score': 0.0, 'support': 1}, '8thAD': {'precision': 0.0, 'recall': 0.0, 'f1-score': 0.0, 'support': 2}, '9thAD': {'precision': 0.0, 'recall': 0.0, 'f1-score': 0.0, 'support': 7}, 'accuracy': 0.37254901960784315, 'macro avg': {'precision': 0.10904255319148937, 'recall': 0.11911764705882352, 'f1-score': 0.0875, 'support': 51}, 'weighted avg': {'precision': 0.28994576554025864, 'recall': 0.37254901960784315, 'f1-score': 0.2549019607843137, 'support': 51}}\n",
            "{'1stAD': {'precision': 0.0, 'recall': 0.0, 'f1-score': 0.0, 'support': 5}, '2ndAD': {'precision': 0.32, 'recall': 0.9411764705882353, 'f1-score': 0.4776119402985075, 'support': 17}, '3rdAD': {'precision': 0.0, 'recall': 0.0, 'f1-score': 0.0, 'support': 14}, '4thAD': {'precision': 0.0, 'recall': 0.0, 'f1-score': 0.0, 'support': 4}, '6thAD': {'precision': 0.0, 'recall': 0.0, 'f1-score': 0.0, 'support': 2}, '8thAD': {'precision': 0.0, 'recall': 0.0, 'f1-score': 0.0, 'support': 1}, '9thAD': {'precision': 0.0, 'recall': 0.0, 'f1-score': 0.0, 'support': 8}, 'accuracy': 0.3137254901960784, 'macro avg': {'precision': 0.045714285714285714, 'recall': 0.13445378151260504, 'f1-score': 0.06823027718550108, 'support': 51}, 'weighted avg': {'precision': 0.10666666666666667, 'recall': 0.3137254901960784, 'f1-score': 0.15920398009950248, 'support': 51}}\n"
          ]
        },
        {
          "output_type": "stream",
          "name": "stderr",
          "text": [
            "/usr/local/lib/python3.7/dist-packages/sklearn/neural_network/_multilayer_perceptron.py:571: ConvergenceWarning: Stochastic Optimizer: Maximum iterations (200) reached and the optimization hasn't converged yet.\n",
            "  % self.max_iter, ConvergenceWarning)\n",
            "/usr/local/lib/python3.7/dist-packages/sklearn/metrics/_classification.py:1272: UndefinedMetricWarning: Precision and F-score are ill-defined and being set to 0.0 in labels with no predicted samples. Use `zero_division` parameter to control this behavior.\n",
            "  _warn_prf(average, modifier, msg_start, len(result))\n",
            "/usr/local/lib/python3.7/dist-packages/sklearn/neural_network/_multilayer_perceptron.py:571: ConvergenceWarning: Stochastic Optimizer: Maximum iterations (200) reached and the optimization hasn't converged yet.\n",
            "  % self.max_iter, ConvergenceWarning)\n",
            "/usr/local/lib/python3.7/dist-packages/sklearn/metrics/_classification.py:1272: UndefinedMetricWarning: Precision and F-score are ill-defined and being set to 0.0 in labels with no predicted samples. Use `zero_division` parameter to control this behavior.\n",
            "  _warn_prf(average, modifier, msg_start, len(result))\n"
          ]
        },
        {
          "output_type": "stream",
          "name": "stdout",
          "text": [
            "********************************\n",
            "MLPClassifier\n",
            "********************************\n",
            "              f1-score  precision    recall  mean score\n",
            "1stAD         0.000000   0.000000  0.000000         NaN\n",
            "1stBC         0.000000   0.000000  0.000000         NaN\n",
            "2ndAD         0.470355   0.332034  0.818301         NaN\n",
            "3rdAD         0.265246   0.318981  0.251587         NaN\n",
            "4thAD         0.000000   0.000000  0.000000         NaN\n",
            "6thAD         0.000000   0.000000  0.000000         NaN\n",
            "7thAD         0.000000   0.000000  0.000000         NaN\n",
            "8thAD         0.000000   0.000000  0.000000         NaN\n",
            "9thAD         0.150000   0.666667  0.084656         NaN\n",
            "accuracy           NaN        NaN       NaN    0.339869\n",
            "macro avg     0.100561   0.145808  0.133689         NaN\n",
            "weighted avg  0.244241   0.297492  0.339869         NaN\n",
            "5thAD         0.000000   0.000000  0.000000         NaN\n",
            "********************************\n",
            "{'1stAD': {'precision': 0.0, 'recall': 0.0, 'f1-score': 0.0, 'support': 4}, '1stBC': {'precision': 0.0, 'recall': 0.0, 'f1-score': 0.0, 'support': 1}, '2ndAD': {'precision': 0.3170731707317073, 'recall': 0.8666666666666667, 'f1-score': 0.4642857142857143, 'support': 15}, '3rdAD': {'precision': 0.4444444444444444, 'recall': 0.26666666666666666, 'f1-score': 0.33333333333333337, 'support': 15}, '4thAD': {'precision': 0.0, 'recall': 0.0, 'f1-score': 0.0, 'support': 4}, '6thAD': {'precision': 0.0, 'recall': 0.0, 'f1-score': 0.0, 'support': 1}, '7thAD': {'precision': 0.0, 'recall': 0.0, 'f1-score': 0.0, 'support': 1}, '8thAD': {'precision': 0.0, 'recall': 0.0, 'f1-score': 0.0, 'support': 1}, '9thAD': {'precision': 1.0, 'recall': 0.1111111111111111, 'f1-score': 0.19999999999999998, 'support': 9}, 'accuracy': 0.35294117647058826, 'macro avg': {'precision': 0.19572417946401688, 'recall': 0.13827160493827162, 'f1-score': 0.11084656084656085, 'support': 51}, 'weighted avg': {'precision': 0.4004463574047505, 'recall': 0.35294117647058826, 'f1-score': 0.26988795518207287, 'support': 51}}\n",
            "{'1stAD': {'precision': 0.0, 'recall': 0.0, 'f1-score': 0.0, 'support': 2}, '1stBC': {'precision': 0.0, 'recall': 0.0, 'f1-score': 0.0, 'support': 1}, '2ndAD': {'precision': 0.35294117647058826, 'recall': 0.7058823529411765, 'f1-score': 0.4705882352941177, 'support': 17}, '3rdAD': {'precision': 0.3125, 'recall': 0.4166666666666667, 'f1-score': 0.35714285714285715, 'support': 12}, '4thAD': {'precision': 0.0, 'recall': 0.0, 'f1-score': 0.0, 'support': 4}, '5thAD': {'precision': 0.0, 'recall': 0.0, 'f1-score': 0.0, 'support': 2}, '6thAD': {'precision': 0.0, 'recall': 0.0, 'f1-score': 0.0, 'support': 3}, '7thAD': {'precision': 0.0, 'recall': 0.0, 'f1-score': 0.0, 'support': 1}, '8thAD': {'precision': 0.0, 'recall': 0.0, 'f1-score': 0.0, 'support': 2}, '9thAD': {'precision': 1.0, 'recall': 0.14285714285714285, 'f1-score': 0.25, 'support': 7}, 'accuracy': 0.35294117647058826, 'macro avg': {'precision': 0.16654411764705884, 'recall': 0.1265406162464986, 'f1-score': 0.1077731092436975, 'support': 51}, 'weighted avg': {'precision': 0.3284313725490196, 'recall': 0.35294117647058826, 'f1-score': 0.2752100840336134, 'support': 51}}\n",
            "{'1stAD': {'precision': 0.0, 'recall': 0.0, 'f1-score': 0.0, 'support': 5}, '2ndAD': {'precision': 0.32608695652173914, 'recall': 0.8823529411764706, 'f1-score': 0.47619047619047616, 'support': 17}, '3rdAD': {'precision': 0.2, 'recall': 0.07142857142857142, 'f1-score': 0.10526315789473682, 'support': 14}, '4thAD': {'precision': 0.0, 'recall': 0.0, 'f1-score': 0.0, 'support': 4}, '6thAD': {'precision': 0.0, 'recall': 0.0, 'f1-score': 0.0, 'support': 2}, '8thAD': {'precision': 0.0, 'recall': 0.0, 'f1-score': 0.0, 'support': 1}, '9thAD': {'precision': 0.0, 'recall': 0.0, 'f1-score': 0.0, 'support': 8}, 'accuracy': 0.3137254901960784, 'macro avg': {'precision': 0.0751552795031056, 'recall': 0.13625450180072027, 'f1-score': 0.08306480486931614, 'support': 51}, 'weighted avg': {'precision': 0.16359761295822678, 'recall': 0.3137254901960784, 'f1-score': 0.18762592756400803, 'support': 51}}\n"
          ]
        },
        {
          "output_type": "stream",
          "name": "stderr",
          "text": [
            "/usr/local/lib/python3.7/dist-packages/sklearn/neural_network/_multilayer_perceptron.py:571: ConvergenceWarning: Stochastic Optimizer: Maximum iterations (200) reached and the optimization hasn't converged yet.\n",
            "  % self.max_iter, ConvergenceWarning)\n",
            "/usr/local/lib/python3.7/dist-packages/sklearn/metrics/_classification.py:1272: UndefinedMetricWarning: Precision and F-score are ill-defined and being set to 0.0 in labels with no predicted samples. Use `zero_division` parameter to control this behavior.\n",
            "  _warn_prf(average, modifier, msg_start, len(result))\n"
          ]
        }
      ]
    },
    {
      "cell_type": "markdown",
      "source": [
        "Compute MAE and MSE"
      ],
      "metadata": {
        "id": "9977EVqut1Z7"
      }
    },
    {
      "cell_type": "code",
      "metadata": {
        "id": "Kpu51QWxZRZt"
      },
      "source": [
        "#To compute the mean absolute and the mean squared error we must convert string values in ground truth (y_dtests) and in predictions to numeric ones\n",
        "\n",
        "#Convert to numeric values\n",
        "def to_numeric(array):\n",
        "  #create a dictionary with keys the string values and values their corresponding numeric values\n",
        "  dictionary = dict(zip(('3rdBC','2ndBC','1stBC','1stAD', '2ndAD', '3rdAD','4thAD','5thAD', '6thAD', '7thAD', '8thAD','9thAD'), (-3, -2, -1, 1, 2, 3, 4, 5, 6, 7, 8, 9)))\n",
        "  \n",
        "  #Convert the strings to numbers using the dictionary and add the new values into a list\n",
        "  numbers=[]\n",
        "  for i in array:\n",
        "    i=dictionary[i]\n",
        "    numbers.append(i)\n",
        "  #convert the list with the numeric values into an array\n",
        "  array=np.array(numbers)\n",
        "  return array\n",
        "\n",
        "#Use the above function to convert the ground truth (y_dtests) to numeric values\n",
        "y_num_test1=to_numeric(y_test1)\n",
        "y_num_test2=to_numeric(y_test2)\n",
        "y_num_test3=to_numeric(y_test3)"
      ],
      "execution_count": null,
      "outputs": []
    },
    {
      "cell_type": "code",
      "metadata": {
        "colab": {
          "base_uri": "https://localhost:8080/"
        },
        "id": "B9fL2CWqZqxt",
        "outputId": "8ccbf54e-d05e-4f5f-c722-6e4d6d683cd3"
      },
      "source": [
        "# Compute mean absolute and mean squared error\n",
        "\n",
        "\n",
        "classifiers=[neighbors.KNeighborsClassifier(),svm.SVC(probability=True),tree.DecisionTreeClassifier(),\n",
        "        RandomForestClassifier(),GaussianProcessClassifier(),MLPClassifier()]\n",
        "lit_mean_errors=pd.DataFrame()\n",
        "\n",
        "for classifier in classifiers:\n",
        "   #Create three models, one for each of the three randomly splitted train/test sets\n",
        "\n",
        "   #get the name of each classifier\n",
        "   name = classifier.__class__.__name__\n",
        "\n",
        "   #print the name of each classifier along with its three classification reports and compute their mean accuracy score\n",
        "  \n",
        "   clf= load(f'{name}1_MLlit.joblib')\n",
        "   predicted1=clf.predict(X_test1)\n",
        "   #convert the predicted values to numeric using the \"to numeric\" function\n",
        "   predicted1=to_numeric(predicted1)\n",
        "   MAE1=mean_absolute_error(y_num_test1, predicted1)\n",
        "   MSE1=mean_squared_error(y_num_test1, predicted1)\n",
        "\n",
        "   clf= load(f'{name}2_MLlit.joblib') \n",
        "   predicted2=clf.predict(X_test2)\n",
        "   predicted2=to_numeric(predicted2)\n",
        "   MAE2=mean_absolute_error(y_num_test2, predicted2)\n",
        "   MSE2=mean_squared_error(y_num_test2, predicted2)\n",
        "       \n",
        "   clf= load(f'{name}3_MLlit.joblib')  \n",
        "   predicted3=clf.predict(X_test3)\n",
        "   predicted3=to_numeric(predicted3)\n",
        "   MAE3=mean_absolute_error(y_num_test3, predicted3)\n",
        "   MSE3=mean_squared_error(y_num_test3, predicted3)\n",
        "\n",
        "   #compute the mean absolute and the mean squared error of the three models\n",
        "   MAE=statistics.mean([MAE1,MAE2,MAE3])\n",
        "   MSE=statistics.mean([MSE1,MSE2,MSE3])\n",
        "    \n",
        "   lit_mean_errors.insert(0,classifier.__class__.__name__, [MAE, MSE], True )\n",
        "    \n",
        "   print(\"********************************\")\n",
        "   print(name,)\n",
        "\n",
        "   print(f\"Mean Absolute Error:{MAE}\")\n",
        "   print(f\"Mean Squared Error:{MSE}\")\n",
        "\n",
        "   print(f\"MAE1:{MAE1}, MAE2:{MAE2}, MAE3:{MAE3}\")\n",
        "   print(f\"MSE1:{MSE1}, MSE2:{MSE2}, MSE3:{MSE3}\")\n",
        "  \n",
        "lit_mean_errors=lit_mean_errors.rename(index={0: \"MAE\", 1: \"MSE\"})\n",
        "print(lit_mean_errors)\n",
        "\n",
        "#save the outputs to the excel file\n",
        "with pd.ExcelWriter(\"literML_outputs.xlsx\", engine='openpyxl', mode='a') as writer:\n",
        "      lit_mean_errors.to_excel(writer,\n",
        "                      sheet_name=\"mean_errors\")\n"
      ],
      "execution_count": null,
      "outputs": [
        {
          "output_type": "stream",
          "name": "stdout",
          "text": [
            "********************************\n",
            "KNeighborsClassifier\n",
            "Mean Absolute Error:1.588235294117647\n",
            "Mean Squared Error:7.575163398692811\n",
            "MAE1:1.2352941176470589, MAE2:1.8235294117647058, MAE3:1.7058823529411764\n",
            "MSE1:4.921568627450981, MSE2:9.352941176470589, MSE3:8.450980392156863\n",
            "********************************\n",
            "SVC\n",
            "Mean Absolute Error:1.522875816993464\n",
            "Mean Squared Error:6.908496732026144\n",
            "MAE1:1.9607843137254901, MAE2:1.3529411764705883, MAE3:1.2549019607843137\n",
            "MSE1:10.07843137254902, MSE2:5.705882352941177, MSE3:4.9411764705882355\n",
            "********************************\n",
            "DecisionTreeClassifier\n",
            "Mean Absolute Error:2.2026143790849675\n",
            "Mean Squared Error:10.124183006535947\n",
            "MAE1:2.0980392156862746, MAE2:2.0588235294117645, MAE3:2.450980392156863\n",
            "MSE1:9.470588235294118, MSE2:9.392156862745098, MSE3:11.509803921568627\n",
            "********************************\n",
            "RandomForestClassifier\n",
            "Mean Absolute Error:1.2679738562091503\n",
            "Mean Squared Error:4.980392156862745\n",
            "MAE1:1.1568627450980393, MAE2:1.5294117647058822, MAE3:1.1176470588235294\n",
            "MSE1:3.8627450980392157, MSE2:6.862745098039215, MSE3:4.215686274509804\n",
            "********************************\n",
            "GaussianProcessClassifier\n",
            "Mean Absolute Error:2.0392156862745097\n",
            "Mean Squared Error:10.470588235294118\n",
            "MAE1:2.0980392156862746, MAE2:2.0980392156862746, MAE3:1.9215686274509804\n",
            "MSE1:11.03921568627451, MSE2:10.647058823529411, MSE3:9.72549019607843\n",
            "********************************\n",
            "MLPClassifier\n",
            "Mean Absolute Error:1.8954248366013071\n",
            "Mean Squared Error:9.267973856209151\n",
            "MAE1:1.9215686274509804, MAE2:1.8823529411764706, MAE3:1.8823529411764706\n",
            "MSE1:9.764705882352942, MSE2:8.627450980392156, MSE3:9.411764705882353\n",
            "     MLPClassifier  GaussianProcessClassifier  ...       SVC  KNeighborsClassifier\n",
            "MAE       1.895425                   2.039216  ...  1.522876              1.588235\n",
            "MSE       9.267974                  10.470588  ...  6.908497              7.575163\n",
            "\n",
            "[2 rows x 6 columns]\n"
          ]
        }
      ]
    },
    {
      "cell_type": "code",
      "metadata": {
        "colab": {
          "base_uri": "https://localhost:8080/",
          "height": 110
        },
        "id": "8xZwDMwVepuF",
        "outputId": "8b7e5afb-2501-4eef-89cd-fc843a040924"
      },
      "source": [
        "lit_mean_errors"
      ],
      "execution_count": null,
      "outputs": [
        {
          "output_type": "execute_result",
          "data": {
            "text/html": [
              "<div>\n",
              "<style scoped>\n",
              "    .dataframe tbody tr th:only-of-type {\n",
              "        vertical-align: middle;\n",
              "    }\n",
              "\n",
              "    .dataframe tbody tr th {\n",
              "        vertical-align: top;\n",
              "    }\n",
              "\n",
              "    .dataframe thead th {\n",
              "        text-align: right;\n",
              "    }\n",
              "</style>\n",
              "<table border=\"1\" class=\"dataframe\">\n",
              "  <thead>\n",
              "    <tr style=\"text-align: right;\">\n",
              "      <th></th>\n",
              "      <th>MLPClassifier</th>\n",
              "      <th>GaussianProcessClassifier</th>\n",
              "      <th>RandomForestClassifier</th>\n",
              "      <th>DecisionTreeClassifier</th>\n",
              "      <th>SVC</th>\n",
              "      <th>KNeighborsClassifier</th>\n",
              "    </tr>\n",
              "  </thead>\n",
              "  <tbody>\n",
              "    <tr>\n",
              "      <th>MAE</th>\n",
              "      <td>1.895425</td>\n",
              "      <td>2.039216</td>\n",
              "      <td>1.267974</td>\n",
              "      <td>2.202614</td>\n",
              "      <td>1.522876</td>\n",
              "      <td>1.588235</td>\n",
              "    </tr>\n",
              "    <tr>\n",
              "      <th>MSE</th>\n",
              "      <td>9.267974</td>\n",
              "      <td>10.470588</td>\n",
              "      <td>4.980392</td>\n",
              "      <td>10.124183</td>\n",
              "      <td>6.908497</td>\n",
              "      <td>7.575163</td>\n",
              "    </tr>\n",
              "  </tbody>\n",
              "</table>\n",
              "</div>"
            ],
            "text/plain": [
              "     MLPClassifier  GaussianProcessClassifier  ...       SVC  KNeighborsClassifier\n",
              "MAE       1.895425                   2.039216  ...  1.522876              1.588235\n",
              "MSE       9.267974                  10.470588  ...  6.908497              7.575163\n",
              "\n",
              "[2 rows x 6 columns]"
            ]
          },
          "metadata": {},
          "execution_count": 64
        }
      ]
    },
    {
      "cell_type": "markdown",
      "metadata": {
        "id": "tJQgf0ewOXoQ"
      },
      "source": [
        "# Follow the same stems for the documentary papyri"
      ]
    },
    {
      "cell_type": "markdown",
      "source": [
        "Experimental settings"
      ],
      "metadata": {
        "id": "un4fbqD1-nmq"
      }
    },
    {
      "cell_type": "code",
      "metadata": {
        "id": "B_QoHkicLMbG"
      },
      "source": [
        "#unzip the file with documentary images from https://www.baylor.edu/classics/index.php?id=958431\n",
        "%%capture\n",
        "!unzip pappalall.zip"
      ],
      "execution_count": null,
      "outputs": []
    },
    {
      "cell_type": "code",
      "metadata": {
        "colab": {
          "base_uri": "https://localhost:8080/"
        },
        "id": "NMWC8iWJOhTM",
        "outputId": "a280fa72-109f-4cbd-d087-921f2c0607f7"
      },
      "source": [
        "# modify to fit your system \n",
        "data_path ='pappal/'\n",
        "base_name = 'pappal'\n",
        "\n",
        "#Define the centuries we are interested in\n",
        "include = {'3rdBC','2ndBC','1stBC','1stAD', '2ndAD', '3rdAD','4thAD','5thAD', '6thAD', '7thAD', '8thAD','9thAD'}\n",
        "resize_all(data_path, pklname=base_name, include=include)"
      ],
      "execution_count": null,
      "outputs": [
        {
          "output_type": "stream",
          "name": "stderr",
          "text": [
            "/usr/local/lib/python3.7/dist-packages/PIL/Image.py:2800: DecompressionBombWarning: Image size (130844949 pixels) exceeds limit of 89478485 pixels, could be decompression bomb DOS attack.\n",
            "  DecompressionBombWarning,\n",
            "/usr/local/lib/python3.7/dist-packages/PIL/Image.py:2800: DecompressionBombWarning: Image size (128929136 pixels) exceeds limit of 89478485 pixels, could be decompression bomb DOS attack.\n",
            "  DecompressionBombWarning,\n",
            "/usr/local/lib/python3.7/dist-packages/PIL/Image.py:2800: DecompressionBombWarning: Image size (99840557 pixels) exceeds limit of 89478485 pixels, could be decompression bomb DOS attack.\n",
            "  DecompressionBombWarning,\n",
            "/usr/local/lib/python3.7/dist-packages/PIL/Image.py:2800: DecompressionBombWarning: Image size (116601255 pixels) exceeds limit of 89478485 pixels, could be decompression bomb DOS attack.\n",
            "  DecompressionBombWarning,\n",
            "/usr/local/lib/python3.7/dist-packages/PIL/Image.py:2800: DecompressionBombWarning: Image size (93639392 pixels) exceeds limit of 89478485 pixels, could be decompression bomb DOS attack.\n",
            "  DecompressionBombWarning,\n"
          ]
        }
      ]
    },
    {
      "cell_type": "code",
      "metadata": {
        "colab": {
          "base_uri": "https://localhost:8080/"
        },
        "id": "Ti5dI5p4O8ms",
        "outputId": "97597380-5a2a-493a-ecc6-d87313388dac"
      },
      "source": [
        "from collections import Counter\n",
        "base_name=\"pappal\"\n",
        "doc_data =joblib.load(f'{base_name}.pkl')\n",
        "\n",
        "print('number of samples: ', len(doc_data['data']))\n",
        "print('keys: ', list(doc_data.keys()))\n",
        "print('image shape: ', doc_data['data'][0].shape)\n",
        "print('labels:', np.unique(doc_data['label']))\n",
        " \n",
        "Counter(doc_data['label'])"
      ],
      "execution_count": null,
      "outputs": [
        {
          "output_type": "stream",
          "name": "stdout",
          "text": [
            "number of samples:  3326\n",
            "keys:  ['label', 'filename', 'data', 'img']\n",
            "image shape:  (224, 224, 3)\n",
            "labels: ['1stAD' '1stBC' '2ndAD' '2ndBC' '3rdAD' '3rdBC' '4thAD' '5thAD' '6thAD'\n",
            " '7thAD' '8thAD']\n"
          ]
        },
        {
          "output_type": "execute_result",
          "data": {
            "text/plain": [
              "Counter({'1stAD': 341,\n",
              "         '1stBC': 109,\n",
              "         '2ndAD': 326,\n",
              "         '2ndBC': 581,\n",
              "         '3rdAD': 346,\n",
              "         '3rdBC': 814,\n",
              "         '4thAD': 297,\n",
              "         '5thAD': 162,\n",
              "         '6thAD': 257,\n",
              "         '7thAD': 64,\n",
              "         '8thAD': 29})"
            ]
          },
          "metadata": {},
          "execution_count": 5
        }
      ]
    },
    {
      "cell_type": "code",
      "metadata": {
        "id": "MwvHF0CqO-w9",
        "colab": {
          "base_uri": "https://localhost:8080/"
        },
        "outputId": "8e80f676-4439-48d5-fe32-0c0a507971c1"
      },
      "source": [
        "# get a list of just the features\n",
        "X_doc = np.array(doc_data['data'])\n",
        "y_doc = np.array(doc_data['label'])\n",
        "X_doc.shape"
      ],
      "execution_count": null,
      "outputs": [
        {
          "output_type": "execute_result",
          "data": {
            "text/plain": [
              "(3326, 224, 224, 3)"
            ]
          },
          "metadata": {},
          "execution_count": 6
        }
      ]
    },
    {
      "cell_type": "code",
      "metadata": {
        "id": "-9MrrZziPwzy",
        "colab": {
          "base_uri": "https://localhost:8080/"
        },
        "outputId": "917a773b-7adb-4643-f6dd-1601c51458af"
      },
      "source": [
        "#concatenate the three channels\n",
        "X_doc=np.reshape(X_doc,(X_doc.shape[0], -1))\n",
        "X_doc.shape"
      ],
      "execution_count": null,
      "outputs": [
        {
          "output_type": "execute_result",
          "data": {
            "text/plain": [
              "(3326, 150528)"
            ]
          },
          "metadata": {},
          "execution_count": 7
        }
      ]
    },
    {
      "cell_type": "code",
      "metadata": {
        "id": "1b9i4EM8Lv_M",
        "colab": {
          "base_uri": "https://localhost:8080/"
        },
        "outputId": "2d91ba51-72f8-4c36-e423-4f476616f85d"
      },
      "source": [
        "#perform dimensionality reduction with Principal Component Analysis (PCA), keeping the top one hundred principal components\n",
        "\n",
        "pca = PCA(n_components=100, random_state=22)\n",
        "pca.fit(X_doc)\n",
        "X = pca.transform(X_doc)\n",
        "X.shape"
      ],
      "execution_count": null,
      "outputs": [
        {
          "output_type": "execute_result",
          "data": {
            "text/plain": [
              "(3326, 100)"
            ]
          },
          "metadata": {},
          "execution_count": 9
        }
      ]
    },
    {
      "cell_type": "code",
      "metadata": {
        "id": "op5_Dq41PCbn"
      },
      "source": [
        "#normalizing\n",
        "X_doc_images = X / X.max()\n",
        "y_doc_images = y_doc\n",
        "\n",
        "n_doc_samples = len(X_doc_images)"
      ],
      "execution_count": null,
      "outputs": []
    },
    {
      "cell_type": "markdown",
      "source": [
        "Create three random train/test splits (80/20)."
      ],
      "metadata": {
        "id": "t2AIgy8u_O5j"
      }
    },
    {
      "cell_type": "code",
      "metadata": {
        "id": "ZfA1aV3SupLq"
      },
      "source": [
        "from sklearn.model_selection import train_test_split\n",
        "X_dtrain1, X_dtest1, y_dtrain1, y_dtest1 = train_test_split(X_doc_images, y_doc_images, test_size=0.20)"
      ],
      "execution_count": null,
      "outputs": []
    },
    {
      "cell_type": "code",
      "metadata": {
        "id": "zWZM1E6DPMyK"
      },
      "source": [
        "X_dtrain2, X_dtest2, y_dtrain2, y_dtest2= train_test_split(X_doc_images, y_doc_images, test_size=0.20)"
      ],
      "execution_count": null,
      "outputs": []
    },
    {
      "cell_type": "code",
      "metadata": {
        "id": "5qS37jG6PM5v"
      },
      "source": [
        "X_dtrain3, X_dtest3, y_dtrain3, y_dtest3= train_test_split(X_doc_images, y_doc_images, test_size=0.20)"
      ],
      "execution_count": null,
      "outputs": []
    },
    {
      "cell_type": "code",
      "metadata": {
        "colab": {
          "base_uri": "https://localhost:8080/"
        },
        "id": "CL_guGk32XWy",
        "outputId": "766ced47-b49f-49b2-af9c-06eb730e697a"
      },
      "source": [
        "#Save the train/test splits into a dictionary\n",
        "\n",
        "ML_dtrain_test= {}\n",
        "ML_dtrain_test['X_dtrain1']=(X_dtrain1)\n",
        "ML_dtrain_test['X_dtest1']=(X_dtest1)\n",
        "ML_dtrain_test['y_dtrain1']=(y_dtrain1)\n",
        "ML_dtrain_test['y_dtest1']=(y_dtest1)\n",
        "\n",
        "ML_dtrain_test['X_dtrain2']=(X_dtrain2)\n",
        "ML_dtrain_test['X_dtest2']=(X_dtest2)\n",
        "ML_dtrain_test['y_dtrain2']=(y_dtrain2)\n",
        "ML_dtrain_test['y_dtest2']=(y_dtest2)\n",
        "\n",
        "ML_dtrain_test['X_dtrain3']=(X_dtrain3)\n",
        "ML_dtrain_test['X_dtest3']=(X_dtest3)\n",
        "ML_dtrain_test['y_dtrain3']=(y_dtrain3)\n",
        "ML_dtrain_test['y_dtest3']=(y_dtest3)\n",
        "\n",
        "#write the dictionary to a pickle file\n",
        "pklname = \"MLdoc_train_test.pkl\"\n",
        "joblib.dump(ML_dtrain_test, pklname)"
      ],
      "execution_count": null,
      "outputs": [
        {
          "output_type": "execute_result",
          "data": {
            "text/plain": [
              "['MLdoc_train_test.pkl']"
            ]
          },
          "metadata": {},
          "execution_count": 49
        }
      ]
    },
    {
      "cell_type": "markdown",
      "source": [
        "**Naive Baselines**: one that always assigns the most frequent century (FREQUENT) and a random one that assigns a century at random (RANDOM)"
      ],
      "metadata": {
        "id": "u4CMo3xk_VWh"
      }
    },
    {
      "cell_type": "code",
      "metadata": {
        "colab": {
          "base_uri": "https://localhost:8080/"
        },
        "id": "pFzjWN_1QErp",
        "outputId": "4e616893-8cfa-4cb2-bf96-08d06021d565"
      },
      "source": [
        "#Create a baseline that  always predicts the most frequent class in the training set.\n",
        "from sklearn.dummy import DummyClassifier\n",
        "\n",
        "base_clf= DummyClassifier(strategy='most_frequent', random_state=0)\n",
        "\n",
        "#create a classifier that always predicts the most frequent class in the 1st training set\n",
        "# and test it on the 1st test set\n",
        "baseline1=base_clf.fit(X_dtrain1, y_dtrain1)\n",
        "base_dprediction1=base_clf.predict(X_dtest1)\n",
        "base_drep1=classification_report(y_dtest1,base_dprediction1,output_dict=True)\n",
        "\n",
        "#create a classifier that always predicts the most frequent class in the 2nd training set\n",
        "# and test it on the 2nd test set\n",
        "baseline2=base_clf.fit(X_dtrain2, y_dtrain2)\n",
        "base_dprediction2=base_clf.predict(X_dtest2)\n",
        "base_drep2=classification_report(y_dtest2,base_dprediction2,output_dict=True)\n",
        "\n",
        "#create a classifier that always predicts the most frequent class in the 3rd training set\n",
        "# and test it on the 3rd test set\n",
        "baseline3=base_clf.fit(X_dtrain3, y_dtrain3)\n",
        "base_dprediction3=base_clf.predict(X_dtest3)\n",
        "base_drep3=classification_report(y_dtest3,base_dprediction3,output_dict=True)\n",
        "\n",
        "\n",
        "#compute the mean scores of the three naive classifiers\n",
        "df = pd.DataFrame([base_drep1,base_drep2,base_drep3],index=['rep1', 'rep2', 'rep3'])\n",
        "lis=[]\n",
        "for i in df:\n",
        "  lis.append(pd.DataFrame(df[i].apply(pd.Series)))\n",
        "\n",
        "base_dreport=pd.DataFrame()\n",
        "for i in lis:\n",
        "  a=i.mean()\n",
        "  base_dreport=base_dreport.append(a,ignore_index=True)\n",
        "\n",
        "base_dreport=base_dreport.rename(columns={base_dreport.columns[4]: \"mean score\"})\n",
        "base_dreport=base_dreport.drop(columns=['support'])\n",
        "base_dreport.index= [i for i in df.columns] \n",
        "print(base_dreport)\n",
        "\n",
        "#save the scores to an excel file\n",
        "base_dreport.to_excel(\"docML_outputs.xlsx\",\n",
        "             sheet_name='most_frequent') "
      ],
      "execution_count": null,
      "outputs": [
        {
          "output_type": "stream",
          "name": "stdout",
          "text": [
            "              f1-score  precision    recall  mean score\n",
            "1stAD         0.000000   0.000000  0.000000         NaN\n",
            "1stBC         0.000000   0.000000  0.000000         NaN\n",
            "2ndAD         0.000000   0.000000  0.000000         NaN\n",
            "2ndBC         0.000000   0.000000  0.000000         NaN\n",
            "3rdAD         0.000000   0.000000  0.000000         NaN\n",
            "3rdBC         0.405417   0.254254  1.000000         NaN\n",
            "4thAD         0.000000   0.000000  0.000000         NaN\n",
            "5thAD         0.000000   0.000000  0.000000         NaN\n",
            "6thAD         0.000000   0.000000  0.000000         NaN\n",
            "7thAD         0.000000   0.000000  0.000000         NaN\n",
            "8thAD         0.000000   0.000000  0.000000         NaN\n",
            "accuracy           NaN        NaN       NaN    0.254254\n",
            "macro avg     0.036856   0.023114  0.090909         NaN\n",
            "weighted avg  0.103091   0.064655  0.254254         NaN\n"
          ]
        },
        {
          "output_type": "stream",
          "name": "stderr",
          "text": [
            "/usr/local/lib/python3.7/dist-packages/sklearn/metrics/_classification.py:1272: UndefinedMetricWarning: Precision and F-score are ill-defined and being set to 0.0 in labels with no predicted samples. Use `zero_division` parameter to control this behavior.\n",
            "  _warn_prf(average, modifier, msg_start, len(result))\n"
          ]
        }
      ]
    },
    {
      "cell_type": "code",
      "metadata": {
        "id": "j64S9arqQD53",
        "colab": {
          "base_uri": "https://localhost:8080/"
        },
        "outputId": "14e21000-7c63-4622-e887-db53b7e06a59"
      },
      "source": [
        "#Create a baseline that assigns a century at random.\n",
        "\n",
        "base2_clf= DummyClassifier(strategy='uniform', random_state=0)\n",
        "\n",
        "#create a classifier that always assigns a century at random\n",
        "# and test it on the 1st test set\n",
        "baseline1=base2_clf.fit(X_dtrain1, y_dtrain1)\n",
        "base_dprediction1=base2_clf.predict(X_dtest1)\n",
        "base_drep1=classification_report(y_dtest1,base_dprediction1,output_dict=True)\n",
        "\n",
        "#create a classifier that always assigns a century at random\n",
        "# and test it on the 2nd test set\n",
        "baseline2=base2_clf.fit(X_dtrain2, y_dtrain2)\n",
        "base_dprediction2=base2_clf.predict(X_dtest2)\n",
        "base_drep2=classification_report(y_dtest2,base_dprediction2,output_dict=True)\n",
        "\n",
        "#create a classifier that always assigns a century at random\n",
        "# and test it on the 3rd test set\n",
        "baseline3=base2_clf.fit(X_dtrain3, y_dtrain3)\n",
        "base_dprediction3=base2_clf.predict(X_dtest3)\n",
        "base_drep3=classification_report(y_dtest3,base_dprediction3,output_dict=True)\n",
        "\n",
        "#compute the mean scores of the three naive classifiers\n",
        "df = pd.DataFrame([base_drep1,base_drep2,base_drep3],index=['rep1', 'rep2', 'rep3'])\n",
        "lis=[]\n",
        "for i in df:\n",
        "  lis.append(pd.DataFrame(df[i].apply(pd.Series)))\n",
        "\n",
        "base_dreport=pd.DataFrame()\n",
        "for i in lis:\n",
        "  a=i.mean()\n",
        "  base_dreport=base_dreport.append(a,ignore_index=True)\n",
        "\n",
        "base_dreport=base_dreport.rename(columns={base_dreport.columns[4]: \"mean score\"})\n",
        "base_dreport=base_dreport.drop(columns=['support'])\n",
        "base_dreport.index= [i for i in df.columns] \n",
        "print(base_dreport)\n",
        "\n",
        "#add the new outputs to the excel file\n",
        "with pd.ExcelWriter(\"docML_outputs.xlsx\", engine='openpyxl', mode='a') as writer:\n",
        "     base_dreport.to_excel(writer,\n",
        "                       sheet_name=\"random\")\n"
      ],
      "execution_count": null,
      "outputs": [
        {
          "output_type": "stream",
          "name": "stdout",
          "text": [
            "              f1-score  precision    recall  mean score\n",
            "1stAD         0.103245   0.116667  0.093293         NaN\n",
            "1stBC         0.035670   0.024242  0.069963         NaN\n",
            "2ndAD         0.123214   0.127778  0.119337         NaN\n",
            "2ndBC         0.127869   0.154472  0.109142         NaN\n",
            "3rdAD         0.092373   0.098361  0.087113         NaN\n",
            "3rdBC         0.141700   0.267760  0.096346         NaN\n",
            "4thAD         0.080603   0.080247  0.081115         NaN\n",
            "5thAD         0.058169   0.047619  0.075441         NaN\n",
            "6thAD         0.052324   0.046875  0.059720         NaN\n",
            "7thAD         0.035812   0.021505  0.108469         NaN\n",
            "8thAD         0.000000   0.000000  0.000000         NaN\n",
            "accuracy           NaN        NaN       NaN    0.093594\n",
            "macro avg     0.077362   0.089593  0.081813         NaN\n",
            "weighted avg  0.106869   0.144808  0.093594         NaN\n"
          ]
        }
      ]
    },
    {
      "cell_type": "markdown",
      "source": [
        "Results of the machine learning"
      ],
      "metadata": {
        "id": "tSamow4SAa5d"
      }
    },
    {
      "cell_type": "code",
      "metadata": {
        "colab": {
          "base_uri": "https://localhost:8080/"
        },
        "id": "JFQMZaqenucP",
        "outputId": "4df54789-eb91-4a4d-e27a-ee9b6a0a4037"
      },
      "source": [
        "#Classification Cross Validation\n",
        "\n",
        "classifiers=[neighbors.KNeighborsClassifier(),svm.SVC(probability=True),tree.DecisionTreeClassifier(),\n",
        "        RandomForestClassifier(),GaussianProcessClassifier(),MLPClassifier()]\n",
        "\n",
        "for classifier in classifiers:\n",
        "  #Create three models, one for each of the three randomly splitted train/test sets\n",
        "\n",
        "  #get the name of each classifier\n",
        "  name = classifier.__class__.__name__\n",
        "\n",
        "  #train each classifier on the 1st training set and test it on the 1st test set\n",
        "  classifier.fit(X_dtrain1, y_dtrain1)\n",
        "  #save the classifier\n",
        "  dump(classifier, f'{name}1_MLdoc.joblib')\n",
        "  #test the classifier\n",
        "  predictions1=classifier.predict(X_dtest1)\n",
        "  rep1=classification_report(y_dtest1, predictions1,output_dict=True)\n",
        "\n",
        "  #train each classifier on the 2nd training set and test it on the 2nd test set\n",
        "  classifier.fit(X_dtrain2, y_dtrain2)\n",
        "  #save the classifier\n",
        "  dump(classifier, f'{name}2_MLdoc.joblib')\n",
        "  #test the classifier\n",
        "  predictions2=classifier.predict(X_dtest2)\n",
        "  rep2=classification_report(y_dtest2, predictions2,output_dict=True)\n",
        "\n",
        "  #train each classifier on the 3rd training set and test it on the 3rd test set\n",
        "  classifier.fit(X_dtrain3, y_dtrain3)\n",
        "  #save the classifier\n",
        "  dump(classifier, f'{name}3_MLdoc.joblib') \n",
        "  #test the classifier\n",
        "  predictions3=classifier.predict(X_dtest3)\n",
        "  rep3=classification_report(y_dtest3, predictions3,output_dict=True)\n",
        "\n",
        "  #print the name of each classifier along with its three classification reports and compute their mean scores\n",
        "  df = pd.DataFrame([rep1,rep2,rep3],index=['rep1', 'rep2', 'rep3'])\n",
        "  lis=[]\n",
        "  for i in df:\n",
        "    lis.append(pd.DataFrame(df[i].apply(pd.Series)))\n",
        "\n",
        "  report=pd.DataFrame()\n",
        "  for i in lis:\n",
        "    a=i.mean()\n",
        "    report=report.append(a,ignore_index=True)\n",
        "  report=report.rename(columns={report.columns[4]: \"mean score\"})\n",
        "  report=report.drop(columns=['support'])\n",
        "  report.index= [i for i in df.columns] \n",
        "\n",
        "  print(\"********************************\")\n",
        "  print(name,)\n",
        "  print(\"********************************\")\n",
        "  print(report)\n",
        "  print(\"********************************\")\n",
        "  print(rep1)\n",
        "  print(rep2)\n",
        "  print(rep3)\n",
        "\n",
        "  #save the scores to the excel file\n",
        "  with pd.ExcelWriter(\"docML_outputs.xlsx\", engine='openpyxl', mode='a') as writer:\n",
        "      report.to_excel(writer,\n",
        "                      sheet_name=name)\n",
        "  "
      ],
      "execution_count": null,
      "outputs": [
        {
          "output_type": "stream",
          "name": "stderr",
          "text": [
            "/usr/local/lib/python3.7/dist-packages/sklearn/metrics/_classification.py:1272: UndefinedMetricWarning: Precision and F-score are ill-defined and being set to 0.0 in labels with no predicted samples. Use `zero_division` parameter to control this behavior.\n",
            "  _warn_prf(average, modifier, msg_start, len(result))\n"
          ]
        },
        {
          "output_type": "stream",
          "name": "stdout",
          "text": [
            "********************************\n",
            "KNeighborsClassifier\n",
            "********************************\n",
            "              f1-score  precision    recall  mean score\n",
            "1stAD         0.288281   0.236849  0.372751         NaN\n",
            "1stBC         0.190719   0.184470  0.198901         NaN\n",
            "2ndAD         0.202780   0.185519  0.225108         NaN\n",
            "2ndBC         0.663112   0.597617  0.745696         NaN\n",
            "3rdAD         0.194723   0.223639  0.173117         NaN\n",
            "3rdBC         0.506396   0.581410  0.448642         NaN\n",
            "4thAD         0.332366   0.300354  0.379690         NaN\n",
            "5thAD         0.274286   0.444017  0.198765         NaN\n",
            "6thAD         0.386252   0.477978  0.333501         NaN\n",
            "7thAD         0.035088   0.083333  0.022222         NaN\n",
            "8thAD         0.000000   0.000000  0.000000         NaN\n",
            "accuracy           NaN        NaN       NaN    0.395896\n",
            "macro avg     0.279455   0.301381  0.281672         NaN\n",
            "weighted avg  0.391894   0.409736  0.395896         NaN\n",
            "********************************\n",
            "{'1stAD': {'precision': 0.23148148148148148, 'recall': 0.30120481927710846, 'f1-score': 0.26178010471204194, 'support': 83}, '1stBC': {'precision': 0.3, 'recall': 0.3, 'f1-score': 0.3, 'support': 20}, '2ndAD': {'precision': 0.16049382716049382, 'recall': 0.22807017543859648, 'f1-score': 0.18840579710144925, 'support': 57}, '2ndBC': {'precision': 0.5899280575539568, 'recall': 0.7321428571428571, 'f1-score': 0.6533864541832669, 'support': 112}, '3rdAD': {'precision': 0.20833333333333334, 'recall': 0.14925373134328357, 'f1-score': 0.17391304347826084, 'support': 67}, '3rdBC': {'precision': 0.5826771653543307, 'recall': 0.4378698224852071, 'f1-score': 0.5, 'support': 169}, '4thAD': {'precision': 0.25, 'recall': 0.4166666666666667, 'f1-score': 0.3125, 'support': 48}, '5thAD': {'precision': 0.25, 'recall': 0.1, 'f1-score': 0.14285714285714288, 'support': 40}, '6thAD': {'precision': 0.5, 'recall': 0.4117647058823529, 'f1-score': 0.45161290322580644, 'support': 51}, '7thAD': {'precision': 0.0, 'recall': 0.0, 'f1-score': 0.0, 'support': 13}, '8thAD': {'precision': 0.0, 'recall': 0.0, 'f1-score': 0.0, 'support': 6}, 'accuracy': 0.38288288288288286, 'macro avg': {'precision': 0.2793558058985087, 'recall': 0.2797247980214611, 'f1-score': 0.2713141314143608, 'support': 666}, 'weighted avg': {'precision': 0.3909366784314857, 'recall': 0.38288288288288286, 'f1-score': 0.37769501454392385, 'support': 666}}\n",
            "{'1stAD': {'precision': 0.20175438596491227, 'recall': 0.3770491803278688, 'f1-score': 0.26285714285714284, 'support': 61}, '1stBC': {'precision': 0.10526315789473684, 'recall': 0.14285714285714285, 'f1-score': 0.12121212121212122, 'support': 14}, '2ndAD': {'precision': 0.1566265060240964, 'recall': 0.18571428571428572, 'f1-score': 0.16993464052287582, 'support': 70}, '2ndBC': {'precision': 0.577922077922078, 'recall': 0.7672413793103449, 'f1-score': 0.6592592592592592, 'support': 116}, '3rdAD': {'precision': 0.23809523809523808, 'recall': 0.20833333333333334, 'f1-score': 0.22222222222222224, 'support': 72}, '3rdBC': {'precision': 0.5703125, 'recall': 0.437125748502994, 'f1-score': 0.49491525423728816, 'support': 167}, '4thAD': {'precision': 0.2542372881355932, 'recall': 0.26785714285714285, 'f1-score': 0.2608695652173913, 'support': 56}, '5thAD': {'precision': 0.4666666666666667, 'recall': 0.2, 'f1-score': 0.27999999999999997, 'support': 35}, '6thAD': {'precision': 0.5555555555555556, 'recall': 0.2631578947368421, 'f1-score': 0.35714285714285715, 'support': 57}, '7thAD': {'precision': 0.25, 'recall': 0.06666666666666667, 'f1-score': 0.10526315789473685, 'support': 15}, '8thAD': {'precision': 0.0, 'recall': 0.0, 'f1-score': 0.0, 'support': 3}, 'accuracy': 0.37987987987987987, 'macro avg': {'precision': 0.306948488750807, 'recall': 0.26509116130060195, 'f1-score': 0.26669783823326315, 'support': 666}, 'weighted avg': {'precision': 0.40563941590613234, 'recall': 0.37987987987987987, 'f1-score': 0.3770216030890326, 'support': 666}}\n",
            "{'1stAD': {'precision': 0.2773109243697479, 'recall': 0.44, 'f1-score': 0.34020618556701027, 'support': 75}, '1stBC': {'precision': 0.14814814814814814, 'recall': 0.15384615384615385, 'f1-score': 0.1509433962264151, 'support': 26}, '2ndAD': {'precision': 0.23943661971830985, 'recall': 0.26153846153846155, 'f1-score': 0.25, 'support': 65}, '2ndBC': {'precision': 0.625, 'recall': 0.7377049180327869, 'f1-score': 0.6766917293233082, 'support': 122}, '3rdAD': {'precision': 0.22448979591836735, 'recall': 0.16176470588235295, 'f1-score': 0.18803418803418806, 'support': 68}, '3rdBC': {'precision': 0.5912408759124088, 'recall': 0.47093023255813954, 'f1-score': 0.5242718446601943, 'support': 172}, '4thAD': {'precision': 0.3968253968253968, 'recall': 0.45454545454545453, 'f1-score': 0.423728813559322, 'support': 55}, '5thAD': {'precision': 0.6153846153846154, 'recall': 0.2962962962962963, 'f1-score': 0.4, 'support': 27}, '6thAD': {'precision': 0.3783783783783784, 'recall': 0.32558139534883723, 'f1-score': 0.35000000000000003, 'support': 43}, '7thAD': {'precision': 0.0, 'recall': 0.0, 'f1-score': 0.0, 'support': 11}, '8thAD': {'precision': 0.0, 'recall': 0.0, 'f1-score': 0.0, 'support': 2}, 'accuracy': 0.42492492492492495, 'macro avg': {'precision': 0.31783770496867025, 'recall': 0.3002006925498621, 'f1-score': 0.3003523779427671, 'support': 666}, 'weighted avg': {'precision': 0.43263264257013223, 'recall': 0.42492492492492495, 'f1-score': 0.42096478980555113, 'support': 666}}\n"
          ]
        },
        {
          "output_type": "stream",
          "name": "stderr",
          "text": [
            "/usr/local/lib/python3.7/dist-packages/sklearn/metrics/_classification.py:1272: UndefinedMetricWarning: Precision and F-score are ill-defined and being set to 0.0 in labels with no predicted samples. Use `zero_division` parameter to control this behavior.\n",
            "  _warn_prf(average, modifier, msg_start, len(result))\n",
            "/usr/local/lib/python3.7/dist-packages/sklearn/metrics/_classification.py:1272: UndefinedMetricWarning: Precision and F-score are ill-defined and being set to 0.0 in labels with no predicted samples. Use `zero_division` parameter to control this behavior.\n",
            "  _warn_prf(average, modifier, msg_start, len(result))\n",
            "/usr/local/lib/python3.7/dist-packages/sklearn/metrics/_classification.py:1272: UndefinedMetricWarning: Precision and F-score are ill-defined and being set to 0.0 in labels with no predicted samples. Use `zero_division` parameter to control this behavior.\n",
            "  _warn_prf(average, modifier, msg_start, len(result))\n"
          ]
        },
        {
          "output_type": "stream",
          "name": "stdout",
          "text": [
            "********************************\n",
            "SVC\n",
            "********************************\n",
            "              f1-score  precision    recall  mean score\n",
            "1stAD         0.331774   0.365801  0.313691         NaN\n",
            "1stBC         0.000000   0.000000  0.000000         NaN\n",
            "2ndAD         0.069557   0.225397  0.041720         NaN\n",
            "2ndBC         0.661435   0.579221  0.770916         NaN\n",
            "3rdAD         0.186449   0.246235  0.150115         NaN\n",
            "3rdBC         0.562766   0.447617  0.757710         NaN\n",
            "4thAD         0.364557   0.400292  0.343434         NaN\n",
            "5thAD         0.134615   0.516667  0.077954         NaN\n",
            "6thAD         0.370378   0.344976  0.406133         NaN\n",
            "7thAD         0.041667   0.333333  0.022222         NaN\n",
            "8thAD         0.000000   0.000000  0.000000         NaN\n",
            "accuracy           NaN        NaN       NaN    0.442442\n",
            "macro avg     0.247564   0.314504  0.262172         NaN\n",
            "weighted avg  0.385038   0.393058  0.442442         NaN\n",
            "********************************\n",
            "{'1stAD': {'precision': 0.4, 'recall': 0.24096385542168675, 'f1-score': 0.3007518796992481, 'support': 83}, '1stBC': {'precision': 0.0, 'recall': 0.0, 'f1-score': 0.0, 'support': 20}, '2ndAD': {'precision': 0.2, 'recall': 0.05263157894736842, 'f1-score': 0.08333333333333333, 'support': 57}, '2ndBC': {'precision': 0.5714285714285714, 'recall': 0.75, 'f1-score': 0.6486486486486486, 'support': 112}, '3rdAD': {'precision': 0.2857142857142857, 'recall': 0.1791044776119403, 'f1-score': 0.2201834862385321, 'support': 67}, '3rdBC': {'precision': 0.4564459930313589, 'recall': 0.7751479289940828, 'f1-score': 0.5745614035087719, 'support': 169}, '4thAD': {'precision': 0.3508771929824561, 'recall': 0.4166666666666667, 'f1-score': 0.38095238095238093, 'support': 48}, '5thAD': {'precision': 0.0, 'recall': 0.0, 'f1-score': 0.0, 'support': 40}, '6thAD': {'precision': 0.3283582089552239, 'recall': 0.43137254901960786, 'f1-score': 0.37288135593220334, 'support': 51}, '7thAD': {'precision': 0.0, 'recall': 0.0, 'f1-score': 0.0, 'support': 13}, '8thAD': {'precision': 0.0, 'recall': 0.0, 'f1-score': 0.0, 'support': 6}, 'accuracy': 0.43843843843843844, 'macro avg': {'precision': 0.235711295646536, 'recall': 0.25871700515103213, 'f1-score': 0.23466477166482894, 'support': 666}, 'weighted avg': {'precision': 0.358063969797344, 'recall': 0.43843843843843844, 'f1-score': 0.37765298629565613, 'support': 666}}\n",
            "{'1stAD': {'precision': 0.3380281690140845, 'recall': 0.39344262295081966, 'f1-score': 0.36363636363636365, 'support': 61}, '1stBC': {'precision': 0.0, 'recall': 0.0, 'f1-score': 0.0, 'support': 14}, '2ndAD': {'precision': 0.3333333333333333, 'recall': 0.05714285714285714, 'f1-score': 0.09756097560975609, 'support': 70}, '2ndBC': {'precision': 0.5844155844155844, 'recall': 0.7758620689655172, 'f1-score': 0.6666666666666666, 'support': 116}, '3rdAD': {'precision': 0.2222222222222222, 'recall': 0.1388888888888889, 'f1-score': 0.17094017094017094, 'support': 72}, '3rdBC': {'precision': 0.4280701754385965, 'recall': 0.7305389221556886, 'f1-score': 0.5398230088495575, 'support': 167}, '4thAD': {'precision': 0.35, 'recall': 0.25, 'f1-score': 0.2916666666666667, 'support': 56}, '5thAD': {'precision': 0.75, 'recall': 0.08571428571428572, 'f1-score': 0.15384615384615383, 'support': 35}, '6thAD': {'precision': 0.39622641509433965, 'recall': 0.3684210526315789, 'f1-score': 0.38181818181818183, 'support': 57}, '7thAD': {'precision': 1.0, 'recall': 0.06666666666666667, 'f1-score': 0.125, 'support': 15}, '8thAD': {'precision': 0.0, 'recall': 0.0, 'f1-score': 0.0, 'support': 3}, 'accuracy': 0.4339339339339339, 'macro avg': {'precision': 0.4002087181380146, 'recall': 0.26060703319239115, 'f1-score': 0.25372347163941067, 'support': 666}, 'weighted avg': {'precision': 0.42442625284387864, 'recall': 0.4339339339339339, 'f1-score': 0.3816203298423242, 'support': 666}}\n",
            "{'1stAD': {'precision': 0.359375, 'recall': 0.30666666666666664, 'f1-score': 0.33093525179856115, 'support': 75}, '1stBC': {'precision': 0.0, 'recall': 0.0, 'f1-score': 0.0, 'support': 26}, '2ndAD': {'precision': 0.14285714285714285, 'recall': 0.015384615384615385, 'f1-score': 0.02777777777777778, 'support': 65}, '2ndBC': {'precision': 0.5818181818181818, 'recall': 0.7868852459016393, 'f1-score': 0.6689895470383275, 'support': 122}, '3rdAD': {'precision': 0.23076923076923078, 'recall': 0.1323529411764706, 'f1-score': 0.16822429906542055, 'support': 68}, '3rdBC': {'precision': 0.4583333333333333, 'recall': 0.7674418604651163, 'f1-score': 0.5739130434782609, 'support': 172}, '4thAD': {'precision': 0.5, 'recall': 0.36363636363636365, 'f1-score': 0.4210526315789474, 'support': 55}, '5thAD': {'precision': 0.8, 'recall': 0.14814814814814814, 'f1-score': 0.25, 'support': 27}, '6thAD': {'precision': 0.3103448275862069, 'recall': 0.4186046511627907, 'f1-score': 0.3564356435643564, 'support': 43}, '7thAD': {'precision': 0.0, 'recall': 0.0, 'f1-score': 0.0, 'support': 11}, '8thAD': {'precision': 0.0, 'recall': 0.0, 'f1-score': 0.0, 'support': 2}, 'accuracy': 0.45495495495495497, 'macro avg': {'precision': 0.30759070148764506, 'recall': 0.2671927720492555, 'f1-score': 0.25430256311833194, 'support': 666}, 'weighted avg': {'precision': 0.39668337249156216, 'recall': 0.45495495495495497, 'f1-score': 0.3958398609668807, 'support': 666}}\n",
            "********************************\n",
            "DecisionTreeClassifier\n",
            "********************************\n",
            "              f1-score  precision    recall  mean score\n",
            "1stAD         0.197548   0.197001  0.198538         NaN\n",
            "1stBC         0.071059   0.075099  0.067949         NaN\n",
            "2ndAD         0.144676   0.150783  0.139837         NaN\n",
            "2ndBC         0.457207   0.464811  0.450059         NaN\n",
            "3rdAD         0.157443   0.152951  0.163021         NaN\n",
            "3rdBC         0.379268   0.389242  0.369908         NaN\n",
            "4thAD         0.240673   0.229955  0.254491         NaN\n",
            "5thAD         0.139355   0.144246  0.135538         NaN\n",
            "6thAD         0.154034   0.156565  0.155375         NaN\n",
            "7thAD         0.108025   0.102241  0.114530         NaN\n",
            "8thAD         0.074074   0.047619  0.166667         NaN\n",
            "accuracy           NaN        NaN       NaN    0.269269\n",
            "macro avg     0.193033   0.191865  0.201447         NaN\n",
            "weighted avg  0.271548   0.275213  0.269269         NaN\n",
            "********************************\n",
            "{'1stAD': {'precision': 0.19047619047619047, 'recall': 0.1927710843373494, 'f1-score': 0.19161676646706585, 'support': 83}, '1stBC': {'precision': 0.043478260869565216, 'recall': 0.05, 'f1-score': 0.046511627906976744, 'support': 20}, '2ndAD': {'precision': 0.14, 'recall': 0.12280701754385964, 'f1-score': 0.1308411214953271, 'support': 57}, '2ndBC': {'precision': 0.411214953271028, 'recall': 0.39285714285714285, 'f1-score': 0.4018264840182648, 'support': 112}, '3rdAD': {'precision': 0.09836065573770492, 'recall': 0.08955223880597014, 'f1-score': 0.09375000000000001, 'support': 67}, '3rdBC': {'precision': 0.3855421686746988, 'recall': 0.378698224852071, 'f1-score': 0.382089552238806, 'support': 169}, '4thAD': {'precision': 0.26785714285714285, 'recall': 0.3125, 'f1-score': 0.2884615384615385, 'support': 48}, '5thAD': {'precision': 0.06666666666666667, 'recall': 0.05, 'f1-score': 0.05714285714285715, 'support': 40}, '6thAD': {'precision': 0.11428571428571428, 'recall': 0.1568627450980392, 'f1-score': 0.1322314049586777, 'support': 51}, '7thAD': {'precision': 0.07142857142857142, 'recall': 0.07692307692307693, 'f1-score': 0.07407407407407408, 'support': 13}, '8thAD': {'precision': 0.0, 'recall': 0.0, 'f1-score': 0.0, 'support': 6}, 'accuracy': 0.24624624624624625, 'macro avg': {'precision': 0.16266457493338932, 'recall': 0.16572468458340991, 'f1-score': 0.16350412970578074, 'support': 666}, 'weighted avg': {'precision': 0.24736172164365305, 'recall': 0.24624624624624625, 'f1-score': 0.2462311582376384, 'support': 666}}\n",
            "{'1stAD': {'precision': 0.21212121212121213, 'recall': 0.22950819672131148, 'f1-score': 0.2204724409448819, 'support': 61}, '1stBC': {'precision': 0.0, 'recall': 0.0, 'f1-score': 0.0, 'support': 14}, '2ndAD': {'precision': 0.1694915254237288, 'recall': 0.14285714285714285, 'f1-score': 0.15503875968992245, 'support': 70}, '2ndBC': {'precision': 0.4954128440366973, 'recall': 0.46551724137931033, 'f1-score': 0.48, 'support': 116}, '3rdAD': {'precision': 0.2, 'recall': 0.20833333333333334, 'f1-score': 0.20408163265306126, 'support': 72}, '3rdBC': {'precision': 0.3670886075949367, 'recall': 0.3473053892215569, 'f1-score': 0.35692307692307695, 'support': 167}, '4thAD': {'precision': 0.1527777777777778, 'recall': 0.19642857142857142, 'f1-score': 0.17187500000000003, 'support': 56}, '5thAD': {'precision': 0.1875, 'recall': 0.17142857142857143, 'f1-score': 0.1791044776119403, 'support': 35}, '6thAD': {'precision': 0.2391304347826087, 'recall': 0.19298245614035087, 'f1-score': 0.21359223300970873, 'support': 57}, '7thAD': {'precision': 0.23529411764705882, 'recall': 0.26666666666666666, 'f1-score': 0.25, 'support': 15}, '8thAD': {'precision': 0.0, 'recall': 0.0, 'f1-score': 0.0, 'support': 3}, 'accuracy': 0.2747747747747748, 'macro avg': {'precision': 0.20534695630763825, 'recall': 0.2019115971978923, 'f1-score': 0.2028261473484174, 'support': 666}, 'weighted avg': {'precision': 0.28566575104885344, 'recall': 0.2747747747747748, 'f1-score': 0.2794293956022191, 'support': 666}}\n",
            "{'1stAD': {'precision': 0.18840579710144928, 'recall': 0.17333333333333334, 'f1-score': 0.18055555555555558, 'support': 75}, '1stBC': {'precision': 0.18181818181818182, 'recall': 0.15384615384615385, 'f1-score': 0.16666666666666669, 'support': 26}, '2ndAD': {'precision': 0.14285714285714285, 'recall': 0.15384615384615385, 'f1-score': 0.14814814814814817, 'support': 65}, '2ndBC': {'precision': 0.4878048780487805, 'recall': 0.4918032786885246, 'f1-score': 0.4897959183673469, 'support': 122}, '3rdAD': {'precision': 0.16049382716049382, 'recall': 0.19117647058823528, 'f1-score': 0.174496644295302, 'support': 68}, '3rdBC': {'precision': 0.41509433962264153, 'recall': 0.38372093023255816, 'f1-score': 0.3987915407854985, 'support': 172}, '4thAD': {'precision': 0.2692307692307692, 'recall': 0.2545454545454545, 'f1-score': 0.2616822429906542, 'support': 55}, '5thAD': {'precision': 0.17857142857142858, 'recall': 0.18518518518518517, 'f1-score': 0.18181818181818182, 'support': 27}, '6thAD': {'precision': 0.11627906976744186, 'recall': 0.11627906976744186, 'f1-score': 0.11627906976744186, 'support': 43}, '7thAD': {'precision': 0.0, 'recall': 0.0, 'f1-score': 0.0, 'support': 11}, '8thAD': {'precision': 0.14285714285714285, 'recall': 0.5, 'f1-score': 0.22222222222222224, 'support': 2}, 'accuracy': 0.28678678678678676, 'macro avg': {'precision': 0.2075829615486793, 'recall': 0.23670327545754918, 'f1-score': 0.21276874460154713, 'support': 666}, 'weighted avg': {'precision': 0.2926130011177027, 'recall': 0.28678678678678676, 'f1-score': 0.2889845453688492, 'support': 666}}\n"
          ]
        },
        {
          "output_type": "stream",
          "name": "stderr",
          "text": [
            "/usr/local/lib/python3.7/dist-packages/sklearn/metrics/_classification.py:1272: UndefinedMetricWarning: Precision and F-score are ill-defined and being set to 0.0 in labels with no predicted samples. Use `zero_division` parameter to control this behavior.\n",
            "  _warn_prf(average, modifier, msg_start, len(result))\n",
            "/usr/local/lib/python3.7/dist-packages/sklearn/metrics/_classification.py:1272: UndefinedMetricWarning: Precision and F-score are ill-defined and being set to 0.0 in labels with no predicted samples. Use `zero_division` parameter to control this behavior.\n",
            "  _warn_prf(average, modifier, msg_start, len(result))\n",
            "/usr/local/lib/python3.7/dist-packages/sklearn/metrics/_classification.py:1272: UndefinedMetricWarning: Precision and F-score are ill-defined and being set to 0.0 in labels with no predicted samples. Use `zero_division` parameter to control this behavior.\n",
            "  _warn_prf(average, modifier, msg_start, len(result))\n"
          ]
        },
        {
          "output_type": "stream",
          "name": "stdout",
          "text": [
            "********************************\n",
            "RandomForestClassifier\n",
            "********************************\n",
            "              f1-score  precision    recall  mean score\n",
            "1stAD         0.264598   0.415593  0.198374         NaN\n",
            "1stBC         0.100882   1.000000  0.053297         NaN\n",
            "2ndAD         0.122936   0.298830  0.078324         NaN\n",
            "2ndBC         0.637221   0.589384  0.693639         NaN\n",
            "3rdAD         0.157467   0.248288  0.115708         NaN\n",
            "3rdBC         0.502938   0.363011  0.818456         NaN\n",
            "4thAD         0.326696   0.450058  0.258460         NaN\n",
            "5thAD         0.134209   0.916667  0.073942         NaN\n",
            "6thAD         0.361250   0.520334  0.279470         NaN\n",
            "7thAD         0.000000   0.000000  0.000000         NaN\n",
            "8thAD         0.000000   0.000000  0.000000         NaN\n",
            "accuracy           NaN        NaN       NaN    0.417417\n",
            "macro avg     0.237109   0.436560  0.233606         NaN\n",
            "weighted avg  0.359325   0.449095  0.417417         NaN\n",
            "********************************\n",
            "{'1stAD': {'precision': 0.4666666666666667, 'recall': 0.1686746987951807, 'f1-score': 0.24778761061946902, 'support': 83}, '1stBC': {'precision': 1.0, 'recall': 0.05, 'f1-score': 0.09523809523809523, 'support': 20}, '2ndAD': {'precision': 0.2631578947368421, 'recall': 0.08771929824561403, 'f1-score': 0.13157894736842105, 'support': 57}, '2ndBC': {'precision': 0.5714285714285714, 'recall': 0.6785714285714286, 'f1-score': 0.6204081632653061, 'support': 112}, '3rdAD': {'precision': 0.19444444444444445, 'recall': 0.1044776119402985, 'f1-score': 0.13592233009708737, 'support': 67}, '3rdBC': {'precision': 0.3697916666666667, 'recall': 0.8402366863905325, 'f1-score': 0.5135623869801085, 'support': 169}, '4thAD': {'precision': 0.43333333333333335, 'recall': 0.2708333333333333, 'f1-score': 0.33333333333333337, 'support': 48}, '5thAD': {'precision': 1.0, 'recall': 0.025, 'f1-score': 0.04878048780487806, 'support': 40}, '6thAD': {'precision': 0.5161290322580645, 'recall': 0.3137254901960784, 'f1-score': 0.3902439024390244, 'support': 51}, '7thAD': {'precision': 0.0, 'recall': 0.0, 'f1-score': 0.0, 'support': 13}, '8thAD': {'precision': 0.0, 'recall': 0.0, 'f1-score': 0.0, 'support': 6}, 'accuracy': 0.41291291291291293, 'macro avg': {'precision': 0.43772287359405354, 'recall': 0.23083986795204234, 'f1-score': 0.22880502337688388, 'support': 666}, 'weighted avg': {'precision': 0.45101874387828694, 'recall': 0.41291291291291293, 'f1-score': 0.350164183070001, 'support': 666}}\n",
            "{'1stAD': {'precision': 0.30952380952380953, 'recall': 0.21311475409836064, 'f1-score': 0.2524271844660194, 'support': 61}, '1stBC': {'precision': 1.0, 'recall': 0.07142857142857142, 'f1-score': 0.13333333333333333, 'support': 14}, '2ndAD': {'precision': 0.3, 'recall': 0.08571428571428572, 'f1-score': 0.13333333333333333, 'support': 70}, '2ndBC': {'precision': 0.5939849624060151, 'recall': 0.6810344827586207, 'f1-score': 0.6345381526104418, 'support': 116}, '3rdAD': {'precision': 0.2647058823529412, 'recall': 0.125, 'f1-score': 0.16981132075471697, 'support': 72}, '3rdBC': {'precision': 0.3423180592991914, 'recall': 0.7604790419161677, 'f1-score': 0.4721189591078067, 'support': 167}, '4thAD': {'precision': 0.3783783783783784, 'recall': 0.25, 'f1-score': 0.3010752688172043, 'support': 56}, '5thAD': {'precision': 0.75, 'recall': 0.08571428571428572, 'f1-score': 0.15384615384615383, 'support': 35}, '6thAD': {'precision': 0.5833333333333334, 'recall': 0.24561403508771928, 'f1-score': 0.345679012345679, 'support': 57}, '7thAD': {'precision': 0.0, 'recall': 0.0, 'f1-score': 0.0, 'support': 15}, '8thAD': {'precision': 0.0, 'recall': 0.0, 'f1-score': 0.0, 'support': 3}, 'accuracy': 0.3993993993993994, 'macro avg': {'precision': 0.4111131295721517, 'recall': 0.22891813242891013, 'f1-score': 0.2360147926013353, 'support': 666}, 'weighted avg': {'precision': 0.41996747243485893, 'recall': 0.3993993993993994, 'f1-score': 0.35018513417817465, 'support': 666}}\n",
            "{'1stAD': {'precision': 0.47058823529411764, 'recall': 0.21333333333333335, 'f1-score': 0.29357798165137616, 'support': 75}, '1stBC': {'precision': 1.0, 'recall': 0.038461538461538464, 'f1-score': 0.07407407407407407, 'support': 26}, '2ndAD': {'precision': 0.3333333333333333, 'recall': 0.06153846153846154, 'f1-score': 0.1038961038961039, 'support': 65}, '2ndBC': {'precision': 0.6027397260273972, 'recall': 0.7213114754098361, 'f1-score': 0.6567164179104478, 'support': 122}, '3rdAD': {'precision': 0.2857142857142857, 'recall': 0.11764705882352941, 'f1-score': 0.16666666666666666, 'support': 68}, '3rdBC': {'precision': 0.3769230769230769, 'recall': 0.8546511627906976, 'f1-score': 0.5231316725978647, 'support': 172}, '4thAD': {'precision': 0.5384615384615384, 'recall': 0.2545454545454545, 'f1-score': 0.345679012345679, 'support': 55}, '5thAD': {'precision': 1.0, 'recall': 0.1111111111111111, 'f1-score': 0.19999999999999998, 'support': 27}, '6thAD': {'precision': 0.46153846153846156, 'recall': 0.27906976744186046, 'f1-score': 0.3478260869565218, 'support': 43}, '7thAD': {'precision': 0.0, 'recall': 0.0, 'f1-score': 0.0, 'support': 11}, '8thAD': {'precision': 0.0, 'recall': 0.0, 'f1-score': 0.0, 'support': 2}, 'accuracy': 0.43993993993993996, 'macro avg': {'precision': 0.4608453324811101, 'recall': 0.24106085122325657, 'f1-score': 0.2465061832817031, 'support': 666}, 'weighted avg': {'precision': 0.47630016518010077, 'recall': 0.43993993993993996, 'f1-score': 0.37762428337298704, 'support': 666}}\n"
          ]
        },
        {
          "output_type": "stream",
          "name": "stderr",
          "text": [
            "/usr/local/lib/python3.7/dist-packages/sklearn/metrics/_classification.py:1272: UndefinedMetricWarning: Precision and F-score are ill-defined and being set to 0.0 in labels with no predicted samples. Use `zero_division` parameter to control this behavior.\n",
            "  _warn_prf(average, modifier, msg_start, len(result))\n",
            "/usr/local/lib/python3.7/dist-packages/sklearn/metrics/_classification.py:1272: UndefinedMetricWarning: Precision and F-score are ill-defined and being set to 0.0 in labels with no predicted samples. Use `zero_division` parameter to control this behavior.\n",
            "  _warn_prf(average, modifier, msg_start, len(result))\n",
            "/usr/local/lib/python3.7/dist-packages/sklearn/metrics/_classification.py:1272: UndefinedMetricWarning: Precision and F-score are ill-defined and being set to 0.0 in labels with no predicted samples. Use `zero_division` parameter to control this behavior.\n",
            "  _warn_prf(average, modifier, msg_start, len(result))\n"
          ]
        },
        {
          "output_type": "stream",
          "name": "stdout",
          "text": [
            "********************************\n",
            "GaussianProcessClassifier\n",
            "********************************\n",
            "              f1-score  precision    recall  mean score\n",
            "1stAD         0.159124   0.391667  0.106693         NaN\n",
            "1stBC         0.000000   0.000000  0.000000         NaN\n",
            "2ndAD         0.017544   0.060606  0.010256         NaN\n",
            "2ndBC         0.597758   0.498053  0.747902         NaN\n",
            "3rdAD         0.073411   0.151936  0.048568         NaN\n",
            "3rdBC         0.502689   0.371096  0.779038         NaN\n",
            "4thAD         0.281913   0.335271  0.246663         NaN\n",
            "5thAD         0.000000   0.000000  0.000000         NaN\n",
            "6thAD         0.229414   0.234802  0.226126         NaN\n",
            "7thAD         0.000000   0.000000  0.000000         NaN\n",
            "8thAD         0.000000   0.000000  0.000000         NaN\n",
            "accuracy           NaN        NaN       NaN    0.382883\n",
            "macro avg     0.169259   0.185766  0.196841         NaN\n",
            "weighted avg  0.298476   0.291215  0.382883         NaN\n",
            "********************************\n",
            "{'1stAD': {'precision': 0.3, 'recall': 0.03614457831325301, 'f1-score': 0.06451612903225806, 'support': 83}, '1stBC': {'precision': 0.0, 'recall': 0.0, 'f1-score': 0.0, 'support': 20}, '2ndAD': {'precision': 0.0, 'recall': 0.0, 'f1-score': 0.0, 'support': 57}, '2ndBC': {'precision': 0.47368421052631576, 'recall': 0.7232142857142857, 'f1-score': 0.5724381625441696, 'support': 112}, '3rdAD': {'precision': 0.20833333333333334, 'recall': 0.07462686567164178, 'f1-score': 0.10989010989010987, 'support': 67}, '3rdBC': {'precision': 0.3715083798882682, 'recall': 0.7869822485207101, 'f1-score': 0.5047438330170778, 'support': 169}, '4thAD': {'precision': 0.29545454545454547, 'recall': 0.2708333333333333, 'f1-score': 0.2826086956521739, 'support': 48}, '5thAD': {'precision': 0.0, 'recall': 0.0, 'f1-score': 0.0, 'support': 40}, '6thAD': {'precision': 0.23076923076923078, 'recall': 0.23529411764705882, 'f1-score': 0.23300970873786409, 'support': 51}, '7thAD': {'precision': 0.0, 'recall': 0.0, 'f1-score': 0.0, 'support': 13}, '8thAD': {'precision': 0.0, 'recall': 0.0, 'f1-score': 0.0, 'support': 6}, 'accuracy': 0.3708708708708709, 'macro avg': {'precision': 0.17088633636106307, 'recall': 0.19337231174548022, 'f1-score': 0.16065514898851393, 'support': 666}, 'weighted avg': {'precision': 0.27124163673340385, 'recall': 0.3708708708708709, 'f1-score': 0.28165310900012513, 'support': 666}}\n",
            "{'1stAD': {'precision': 0.3125, 'recall': 0.16393442622950818, 'f1-score': 0.21505376344086022, 'support': 61}, '1stBC': {'precision': 0.0, 'recall': 0.0, 'f1-score': 0.0, 'support': 14}, '2ndAD': {'precision': 0.0, 'recall': 0.0, 'f1-score': 0.0, 'support': 70}, '2ndBC': {'precision': 0.48333333333333334, 'recall': 0.75, 'f1-score': 0.5878378378378378, 'support': 116}, '3rdAD': {'precision': 0.13636363636363635, 'recall': 0.041666666666666664, 'f1-score': 0.06382978723404255, 'support': 72}, '3rdBC': {'precision': 0.3538011695906433, 'recall': 0.7245508982035929, 'f1-score': 0.4754420432220039, 'support': 167}, '4thAD': {'precision': 0.2558139534883721, 'recall': 0.19642857142857142, 'f1-score': 0.22222222222222224, 'support': 56}, '5thAD': {'precision': 0.0, 'recall': 0.0, 'f1-score': 0.0, 'support': 35}, '6thAD': {'precision': 0.2608695652173913, 'recall': 0.21052631578947367, 'f1-score': 0.23300970873786409, 'support': 57}, '7thAD': {'precision': 0.0, 'recall': 0.0, 'f1-score': 0.0, 'support': 15}, '8thAD': {'precision': 0.0, 'recall': 0.0, 'f1-score': 0.0, 'support': 3}, 'accuracy': 0.3663663663663664, 'macro avg': {'precision': 0.1638801507266706, 'recall': 0.18973698893798296, 'f1-score': 0.1633995784268028, 'support': 666}, 'weighted avg': {'precision': 0.2601010366655046, 'recall': 0.3663663663663664, 'f1-score': 0.2868288776283935, 'support': 666}}\n",
            "{'1stAD': {'precision': 0.5625, 'recall': 0.12, 'f1-score': 0.19780219780219782, 'support': 75}, '1stBC': {'precision': 0.0, 'recall': 0.0, 'f1-score': 0.0, 'support': 26}, '2ndAD': {'precision': 0.18181818181818182, 'recall': 0.03076923076923077, 'f1-score': 0.052631578947368425, 'support': 65}, '2ndBC': {'precision': 0.5371428571428571, 'recall': 0.7704918032786885, 'f1-score': 0.632996632996633, 'support': 122}, '3rdAD': {'precision': 0.1111111111111111, 'recall': 0.029411764705882353, 'f1-score': 0.04651162790697674, 'support': 68}, '3rdBC': {'precision': 0.3879781420765027, 'recall': 0.8255813953488372, 'f1-score': 0.5278810408921933, 'support': 172}, '4thAD': {'precision': 0.45454545454545453, 'recall': 0.2727272727272727, 'f1-score': 0.3409090909090909, 'support': 55}, '5thAD': {'precision': 0.0, 'recall': 0.0, 'f1-score': 0.0, 'support': 27}, '6thAD': {'precision': 0.2127659574468085, 'recall': 0.23255813953488372, 'f1-score': 0.22222222222222224, 'support': 43}, '7thAD': {'precision': 0.0, 'recall': 0.0, 'f1-score': 0.0, 'support': 11}, '8thAD': {'precision': 0.0, 'recall': 0.0, 'f1-score': 0.0, 'support': 2}, 'accuracy': 0.4114114114114114, 'macro avg': {'precision': 0.22253288219462872, 'recall': 0.20741269148770866, 'f1-score': 0.18372312651606204, 'support': 666}, 'weighted avg': {'precision': 0.34230306689570145, 'recall': 0.4114114114114114, 'f1-score': 0.3269454834519824, 'support': 666}}\n"
          ]
        },
        {
          "output_type": "stream",
          "name": "stderr",
          "text": [
            "/usr/local/lib/python3.7/dist-packages/sklearn/neural_network/_multilayer_perceptron.py:571: ConvergenceWarning: Stochastic Optimizer: Maximum iterations (200) reached and the optimization hasn't converged yet.\n",
            "  % self.max_iter, ConvergenceWarning)\n",
            "/usr/local/lib/python3.7/dist-packages/sklearn/neural_network/_multilayer_perceptron.py:571: ConvergenceWarning: Stochastic Optimizer: Maximum iterations (200) reached and the optimization hasn't converged yet.\n",
            "  % self.max_iter, ConvergenceWarning)\n"
          ]
        },
        {
          "output_type": "stream",
          "name": "stdout",
          "text": [
            "********************************\n",
            "MLPClassifier\n",
            "********************************\n",
            "              f1-score  precision    recall  mean score\n",
            "1stAD         0.329413   0.339017  0.325313         NaN\n",
            "1stBC         0.043011   0.133333  0.025641         NaN\n",
            "2ndAD         0.072820   0.104946  0.056738         NaN\n",
            "2ndBC         0.636235   0.577712  0.708148         NaN\n",
            "3rdAD         0.157716   0.180931  0.139820         NaN\n",
            "3rdBC         0.566014   0.514311  0.629802         NaN\n",
            "4thAD         0.286606   0.262660  0.316432         NaN\n",
            "5thAD         0.172728   0.214045  0.148192         NaN\n",
            "6thAD         0.370516   0.337823  0.412645         NaN\n",
            "7thAD         0.092593   0.444444  0.052525         NaN\n",
            "8thAD         0.000000   0.000000  0.000000         NaN\n",
            "accuracy           NaN        NaN       NaN    0.404905\n",
            "macro avg     0.247968   0.282657  0.255932         NaN\n",
            "weighted avg  0.377641   0.369010  0.404905         NaN\n",
            "********************************\n",
            "{'1stAD': {'precision': 0.25806451612903225, 'recall': 0.1927710843373494, 'f1-score': 0.2206896551724138, 'support': 83}, '1stBC': {'precision': 0.0, 'recall': 0.0, 'f1-score': 0.0, 'support': 20}, '2ndAD': {'precision': 0.075, 'recall': 0.05263157894736842, 'f1-score': 0.061855670103092765, 'support': 57}, '2ndBC': {'precision': 0.5428571428571428, 'recall': 0.6785714285714286, 'f1-score': 0.603174603174603, 'support': 112}, '3rdAD': {'precision': 0.18, 'recall': 0.13432835820895522, 'f1-score': 0.15384615384615385, 'support': 67}, '3rdBC': {'precision': 0.5, 'recall': 0.621301775147929, 'f1-score': 0.554089709762533, 'support': 169}, '4thAD': {'precision': 0.265625, 'recall': 0.3541666666666667, 'f1-score': 0.30357142857142855, 'support': 48}, '5thAD': {'precision': 0.23809523809523808, 'recall': 0.125, 'f1-score': 0.16393442622950818, 'support': 40}, '6thAD': {'precision': 0.28169014084507044, 'recall': 0.39215686274509803, 'f1-score': 0.3278688524590164, 'support': 51}, '7thAD': {'precision': 0.0, 'recall': 0.0, 'f1-score': 0.0, 'support': 13}, '8thAD': {'precision': 0.0, 'recall': 0.0, 'f1-score': 0.0, 'support': 6}, 'accuracy': 0.3768768768768769, 'macro avg': {'precision': 0.2128483670842258, 'recall': 0.23190252314770865, 'f1-score': 0.21718459084715905, 'support': 666}, 'weighted avg': {'precision': 0.32987141373215884, 'recall': 0.3768768768768769, 'f1-score': 0.34714345418066256, 'support': 666}}\n",
            "{'1stAD': {'precision': 0.3472222222222222, 'recall': 0.4098360655737705, 'f1-score': 0.3759398496240602, 'support': 61}, '1stBC': {'precision': 0.0, 'recall': 0.0, 'f1-score': 0.0, 'support': 14}, '2ndAD': {'precision': 0.16666666666666666, 'recall': 0.07142857142857142, 'f1-score': 0.1, 'support': 70}, '2ndBC': {'precision': 0.5902777777777778, 'recall': 0.7327586206896551, 'f1-score': 0.6538461538461539, 'support': 116}, '3rdAD': {'precision': 0.19298245614035087, 'recall': 0.1527777777777778, 'f1-score': 0.17054263565891473, 'support': 72}, '3rdBC': {'precision': 0.5360824742268041, 'recall': 0.6227544910179641, 'f1-score': 0.5761772853185596, 'support': 167}, '4thAD': {'precision': 0.22727272727272727, 'recall': 0.26785714285714285, 'f1-score': 0.24590163934426232, 'support': 56}, '5thAD': {'precision': 0.18181818181818182, 'recall': 0.17142857142857143, 'f1-score': 0.1764705882352941, 'support': 35}, '6thAD': {'precision': 0.43548387096774194, 'recall': 0.47368421052631576, 'f1-score': 0.45378151260504196, 'support': 57}, '7thAD': {'precision': 0.3333333333333333, 'recall': 0.06666666666666667, 'f1-score': 0.1111111111111111, 'support': 15}, '8thAD': {'precision': 0.0, 'recall': 0.0, 'f1-score': 0.0, 'support': 3}, 'accuracy': 0.4189189189189189, 'macro avg': {'precision': 0.2737399736750733, 'recall': 0.26992655617876693, 'f1-score': 0.2603427977948543, 'support': 666}, 'weighted avg': {'precision': 0.38086102735509964, 'recall': 0.4189189189189189, 'f1-score': 0.39303053508337976, 'support': 666}}\n",
            "{'1stAD': {'precision': 0.4117647058823529, 'recall': 0.37333333333333335, 'f1-score': 0.39160839160839156, 'support': 75}, '1stBC': {'precision': 0.4, 'recall': 0.07692307692307693, 'f1-score': 0.12903225806451613, 'support': 26}, '2ndAD': {'precision': 0.07317073170731707, 'recall': 0.046153846153846156, 'f1-score': 0.05660377358490566, 'support': 65}, '2ndBC': {'precision': 0.6, 'recall': 0.7131147540983607, 'f1-score': 0.6516853932584269, 'support': 122}, '3rdAD': {'precision': 0.16981132075471697, 'recall': 0.1323529411764706, 'f1-score': 0.1487603305785124, 'support': 68}, '3rdBC': {'precision': 0.5068493150684932, 'recall': 0.6453488372093024, 'f1-score': 0.5677749360613811, 'support': 172}, '4thAD': {'precision': 0.29508196721311475, 'recall': 0.32727272727272727, 'f1-score': 0.3103448275862069, 'support': 55}, '5thAD': {'precision': 0.2222222222222222, 'recall': 0.14814814814814814, 'f1-score': 0.17777777777777776, 'support': 27}, '6thAD': {'precision': 0.2962962962962963, 'recall': 0.37209302325581395, 'f1-score': 0.32989690721649484, 'support': 43}, '7thAD': {'precision': 1.0, 'recall': 0.09090909090909091, 'f1-score': 0.16666666666666669, 'support': 11}, '8thAD': {'precision': 0.0, 'recall': 0.0, 'f1-score': 0.0, 'support': 2}, 'accuracy': 0.4189189189189189, 'macro avg': {'precision': 0.36138150537677394, 'recall': 0.26596816168001547, 'f1-score': 0.26637738749120726, 'support': 666}, 'weighted avg': {'precision': 0.39629722438846204, 'recall': 0.4189189189189189, 'f1-score': 0.39274953255800915, 'support': 666}}\n"
          ]
        },
        {
          "output_type": "stream",
          "name": "stderr",
          "text": [
            "/usr/local/lib/python3.7/dist-packages/sklearn/neural_network/_multilayer_perceptron.py:571: ConvergenceWarning: Stochastic Optimizer: Maximum iterations (200) reached and the optimization hasn't converged yet.\n",
            "  % self.max_iter, ConvergenceWarning)\n"
          ]
        }
      ]
    },
    {
      "cell_type": "markdown",
      "source": [
        "Compute MAE and MSE"
      ],
      "metadata": {
        "id": "kOJ00wUfAS_b"
      }
    },
    {
      "cell_type": "code",
      "metadata": {
        "id": "z5gJLVxSB0OG"
      },
      "source": [
        "#To compute the mean absolute and the mean squared error we must convert string values in ground truth (y_dtests) and in predictions to numeric ones\n",
        "\n",
        "#Convert to numeric values\n",
        "def to_numeric(array):\n",
        "  #create a dictionary with keys the string values and values their corresponding numeric values\n",
        "  dictionary = dict(zip(('3rdBC','2ndBC','1stBC','1stAD', '2ndAD', '3rdAD','4thAD','5thAD', '6thAD', '7thAD', '8thAD','9thAD'), (-3, -2, -1, 1, 2, 3, 4, 5, 6, 7, 8, 9)))\n",
        "  \n",
        "  #Convert the strings to numbers using the dictionary and add the new values into a list\n",
        "  numbers=[]\n",
        "  for i in array:\n",
        "    i=dictionary[i]\n",
        "    numbers.append(i)\n",
        "  #convert the list with the numeric values into an array\n",
        "  array=np.array(numbers)\n",
        "  return array\n",
        "\n",
        "#Use the above function to convert the ground truth (y_dtests) to numeric values\n",
        "y_num_dtest1=to_numeric(y_dtest1)\n",
        "y_num_dtest2=to_numeric(y_dtest2)\n",
        "y_num_dtest3=to_numeric(y_dtest3)"
      ],
      "execution_count": null,
      "outputs": []
    },
    {
      "cell_type": "code",
      "metadata": {
        "colab": {
          "base_uri": "https://localhost:8080/"
        },
        "id": "SthApos35MB1",
        "outputId": "ec7dac76-d1bd-493a-dbb6-e0498e5f8fd2"
      },
      "source": [
        "# Compute mean absolute and mean squared error\n",
        "\n",
        "classifiers=[neighbors.KNeighborsClassifier(),svm.SVC(probability=True),tree.DecisionTreeClassifier(),\n",
        "        RandomForestClassifier(),GaussianProcessClassifier(),MLPClassifier()]\n",
        "mean_errors=pd.DataFrame()\n",
        "\n",
        "for classifier in classifiers:\n",
        "\n",
        "   #Create three models, one for each of the three randomly splitted train/test sets\n",
        "\n",
        "   #get the name of each classifier\n",
        "   name = classifier.__class__.__name__\n",
        "\n",
        "   #print the name of each classifier along with its three classification reports and compute their mean accuracy score\n",
        "  \n",
        "   clf= load(f'{name}1_MLdoc.joblib')\n",
        "   predicted1=clf.predict(X_dtest1)\n",
        "   #convert the predicted values to numeric using the \"to numeric\" function\n",
        "   predicted1=to_numeric(predicted1)\n",
        "   MAE1=mean_absolute_error(y_num_dtest1, predicted1)\n",
        "   MSE1=mean_squared_error(y_num_dtest1, predicted1)\n",
        "\n",
        "   clf= load(f'{name}2_MLdoc.joblib') \n",
        "   predicted2=clf.predict(X_dtest2)\n",
        "   predicted2=to_numeric(predicted2)\n",
        "   MAE2=mean_absolute_error(y_num_dtest2, predicted2)\n",
        "   MSE2=mean_squared_error(y_num_dtest2, predicted2)\n",
        "       \n",
        "   clf= load(f'{name}3_MLdoc.joblib')  \n",
        "   predicted3=clf.predict(X_dtest3)\n",
        "   predicted3=to_numeric(predicted3)\n",
        "   MAE3=mean_absolute_error(y_num_dtest3, predicted3)\n",
        "   MSE3=mean_squared_error(y_num_dtest3, predicted3)\n",
        "\n",
        "   #compute the mean absolute and the mean squared error of the three models\n",
        "   MAE=statistics.mean([MAE1,MAE2,MAE3])\n",
        "   MSE=statistics.mean([MSE1,MSE2,MSE3])\n",
        "    \n",
        "   mean_errors.insert(0,classifier.__class__.__name__, [MAE, MSE], True )\n",
        "    \n",
        "   print(\"********************************\")\n",
        "   print(name,)\n",
        "\n",
        "   print(f\"Mean Absolute Error:{MAE}\")\n",
        "   print(f\"Mean Squared Error:{MSE}\")\n",
        "\n",
        "   print(f\"MAE1:{MAE1}, MAE2:{MAE2}, MAE3:{MAE3}\")\n",
        "   print(f\"MSE1:{MSE1}, MSE2:{MSE2}, MSE3:{MSE3}\")\n",
        "  \n",
        "mean_errors=mean_errors.rename(index={0: \"MAE\", 1: \"MSE\"})\n",
        "print(mean_errors)\n",
        "\n",
        "#save the outputs to the excel file\n",
        "with pd.ExcelWriter(\"docML_outputs.xlsx\", engine='openpyxl', mode='a') as writer:\n",
        "      mean_errors.to_excel(writer,\n",
        "                      sheet_name=\"mean_errors\")\n"
      ],
      "execution_count": null,
      "outputs": [
        {
          "output_type": "stream",
          "name": "stdout",
          "text": [
            "********************************\n",
            "KNeighborsClassifier\n",
            "Mean Absolute Error:2.123123123123123\n",
            "Mean Squared Error:10.594594594594595\n",
            "MAE1:2.2162162162162162, MAE2:2.1006006006006004, MAE3:2.0525525525525525\n",
            "MSE1:11.21921921921922, MSE2:10.082582582582583, MSE3:10.481981981981981\n",
            "********************************\n",
            "SVC\n",
            "Mean Absolute Error:2.2172172172172173\n",
            "Mean Squared Error:12.697697697697699\n",
            "MAE1:2.249249249249249, MAE2:2.280780780780781, MAE3:2.1216216216216215\n",
            "MSE1:12.897897897897899, MSE2:13.334834834834835, MSE3:11.86036036036036\n",
            "********************************\n",
            "DecisionTreeClassifier\n",
            "Mean Absolute Error:2.918918918918919\n",
            "Mean Squared Error:16.496496496496498\n",
            "MAE1:3.057057057057057, MAE2:2.954954954954955, MAE3:2.744744744744745\n",
            "MSE1:17.54954954954955, MSE2:16.882882882882882, MSE3:15.057057057057056\n",
            "********************************\n",
            "RandomForestClassifier\n",
            "Mean Absolute Error:2.646146146146146\n",
            "Mean Squared Error:16.296796796796798\n",
            "MAE1:2.6276276276276276, MAE2:2.7837837837837838, MAE3:2.527027027027027\n",
            "MSE1:15.984984984984985, MSE2:17.71771771771772, MSE3:15.187687687687689\n",
            "********************************\n",
            "GaussianProcessClassifier\n",
            "Mean Absolute Error:2.7412412412412412\n",
            "Mean Squared Error:16.67817817817818\n",
            "MAE1:2.7927927927927927, MAE2:2.876876876876877, MAE3:2.554054054054054\n",
            "MSE1:17.096096096096097, MSE2:17.903903903903903, MSE3:15.034534534534535\n",
            "********************************\n",
            "MLPClassifier\n",
            "Mean Absolute Error:2.1716716716716715\n",
            "Mean Squared Error:11.48898898898899\n",
            "MAE1:2.33033033033033, MAE2:2.048048048048048, MAE3:2.1366366366366365\n",
            "MSE1:12.288288288288289, MSE2:10.795795795795796, MSE3:11.382882882882884\n",
            "     MLPClassifier  GaussianProcessClassifier  ...        SVC  KNeighborsClassifier\n",
            "MAE       2.171672                   2.741241  ...   2.217217              2.123123\n",
            "MSE      11.488989                  16.678178  ...  12.697698             10.594595\n",
            "\n",
            "[2 rows x 6 columns]\n"
          ]
        }
      ]
    },
    {
      "cell_type": "code",
      "metadata": {
        "colab": {
          "base_uri": "https://localhost:8080/",
          "height": 110
        },
        "id": "D2xszGdTnmbF",
        "outputId": "e28d28c8-3f31-4d46-ee0e-61a582961f26"
      },
      "source": [
        "mean_errors"
      ],
      "execution_count": null,
      "outputs": [
        {
          "output_type": "execute_result",
          "data": {
            "text/html": [
              "<div>\n",
              "<style scoped>\n",
              "    .dataframe tbody tr th:only-of-type {\n",
              "        vertical-align: middle;\n",
              "    }\n",
              "\n",
              "    .dataframe tbody tr th {\n",
              "        vertical-align: top;\n",
              "    }\n",
              "\n",
              "    .dataframe thead th {\n",
              "        text-align: right;\n",
              "    }\n",
              "</style>\n",
              "<table border=\"1\" class=\"dataframe\">\n",
              "  <thead>\n",
              "    <tr style=\"text-align: right;\">\n",
              "      <th></th>\n",
              "      <th>MLPClassifier</th>\n",
              "      <th>GaussianProcessClassifier</th>\n",
              "      <th>RandomForestClassifier</th>\n",
              "      <th>DecisionTreeClassifier</th>\n",
              "      <th>SVC</th>\n",
              "      <th>KNeighborsClassifier</th>\n",
              "    </tr>\n",
              "  </thead>\n",
              "  <tbody>\n",
              "    <tr>\n",
              "      <th>MAE</th>\n",
              "      <td>2.171672</td>\n",
              "      <td>2.741241</td>\n",
              "      <td>2.646146</td>\n",
              "      <td>2.918919</td>\n",
              "      <td>2.217217</td>\n",
              "      <td>2.123123</td>\n",
              "    </tr>\n",
              "    <tr>\n",
              "      <th>MSE</th>\n",
              "      <td>11.488989</td>\n",
              "      <td>16.678178</td>\n",
              "      <td>16.296797</td>\n",
              "      <td>16.496496</td>\n",
              "      <td>12.697698</td>\n",
              "      <td>10.594595</td>\n",
              "    </tr>\n",
              "  </tbody>\n",
              "</table>\n",
              "</div>"
            ],
            "text/plain": [
              "     MLPClassifier  GaussianProcessClassifier  ...        SVC  KNeighborsClassifier\n",
              "MAE       2.171672                   2.741241  ...   2.217217              2.123123\n",
              "MSE      11.488989                  16.678178  ...  12.697698             10.594595\n",
              "\n",
              "[2 rows x 6 columns]"
            ]
          },
          "metadata": {},
          "execution_count": 55
        }
      ]
    },
    {
      "cell_type": "markdown",
      "metadata": {
        "id": "yIu0e96TjSlL"
      },
      "source": [
        "**Analysis**\n",
        "\n",
        "Learning Curves"
      ]
    },
    {
      "cell_type": "code",
      "metadata": {
        "colab": {
          "base_uri": "https://localhost:8080/"
        },
        "id": "TMvKVLvGfLF6",
        "outputId": "e5c76e7b-f15f-4135-81a5-c6bec827f29d"
      },
      "source": [
        "#training curves\n",
        "from sklearn.metrics import accuracy_score\n",
        "import statistics\n",
        "\n",
        "\n",
        "classifiers=[neighbors.KNeighborsClassifier(),svm.SVC(probability=True),tree.DecisionTreeClassifier(),\n",
        "        RandomForestClassifier(),GaussianProcessClassifier(),MLPClassifier()]\n",
        "\n",
        "train_size=[500, 1000, 1500, 2000, len(X_dtrain1)]\n",
        "#create a list to add classifiers' names\n",
        "clf_name=[]\n",
        "#create a list to add smaller lists, each of which will contain one's classifier accuracy scores\n",
        "accuracy=[]\n",
        "\n",
        "for clf in classifiers:\n",
        "  #add the name of the classifier to the clf_name list\n",
        "  clf_name.append(clf.__class__.__name__)\n",
        "  #create an empty list to append the classifier's accuracy scores\n",
        "  clf_acc=[]\n",
        "  for size in train_size:\n",
        "\n",
        "    #train three models(one for each of the three training-test splits) with the corresponding size of their training set \n",
        "    #and test them on their whole test set. \n",
        "    clf.fit(X_dtrain1[:size], y_dtrain1[:size])\n",
        "    predictions1=clf.predict(X_dtest1)\n",
        "    #compute the accuracy score of the classifier\n",
        "    ac1=accuracy_score(y_dtest1, predictions1)\n",
        "\n",
        "    #Do the same for the other two models    \n",
        "    clf.fit(X_dtrain2[:size], y_dtrain2[:size])\n",
        "    predictions2=clf.predict(X_dtest2)\n",
        "    ac2=accuracy_score(y_dtest2, predictions2)\n",
        "\n",
        "    clf.fit(X_dtrain3[:size], y_dtrain3[:size]) \n",
        "    predictions3=clf.predict(X_dtest3)\n",
        "    ac3=accuracy_score(y_dtest3, predictions3)\n",
        "\n",
        "    #add into the clf_acc list the mean accuracy score of the three models\n",
        "    clf_acc.append(statistics.mean([ac1,ac2,ac3]))\n",
        "    \n",
        "  #add the clf_acc list with the mean accuracy scores of the classifier to the accuracy list\n",
        "  accuracy.append(clf_acc)"
      ],
      "execution_count": null,
      "outputs": [
        {
          "output_type": "stream",
          "name": "stderr",
          "text": [
            "/usr/local/lib/python3.7/dist-packages/sklearn/neural_network/_multilayer_perceptron.py:571: ConvergenceWarning: Stochastic Optimizer: Maximum iterations (200) reached and the optimization hasn't converged yet.\n",
            "  % self.max_iter, ConvergenceWarning)\n",
            "/usr/local/lib/python3.7/dist-packages/sklearn/neural_network/_multilayer_perceptron.py:571: ConvergenceWarning: Stochastic Optimizer: Maximum iterations (200) reached and the optimization hasn't converged yet.\n",
            "  % self.max_iter, ConvergenceWarning)\n",
            "/usr/local/lib/python3.7/dist-packages/sklearn/neural_network/_multilayer_perceptron.py:571: ConvergenceWarning: Stochastic Optimizer: Maximum iterations (200) reached and the optimization hasn't converged yet.\n",
            "  % self.max_iter, ConvergenceWarning)\n",
            "/usr/local/lib/python3.7/dist-packages/sklearn/neural_network/_multilayer_perceptron.py:571: ConvergenceWarning: Stochastic Optimizer: Maximum iterations (200) reached and the optimization hasn't converged yet.\n",
            "  % self.max_iter, ConvergenceWarning)\n",
            "/usr/local/lib/python3.7/dist-packages/sklearn/neural_network/_multilayer_perceptron.py:571: ConvergenceWarning: Stochastic Optimizer: Maximum iterations (200) reached and the optimization hasn't converged yet.\n",
            "  % self.max_iter, ConvergenceWarning)\n",
            "/usr/local/lib/python3.7/dist-packages/sklearn/neural_network/_multilayer_perceptron.py:571: ConvergenceWarning: Stochastic Optimizer: Maximum iterations (200) reached and the optimization hasn't converged yet.\n",
            "  % self.max_iter, ConvergenceWarning)\n",
            "/usr/local/lib/python3.7/dist-packages/sklearn/neural_network/_multilayer_perceptron.py:571: ConvergenceWarning: Stochastic Optimizer: Maximum iterations (200) reached and the optimization hasn't converged yet.\n",
            "  % self.max_iter, ConvergenceWarning)\n",
            "/usr/local/lib/python3.7/dist-packages/sklearn/neural_network/_multilayer_perceptron.py:571: ConvergenceWarning: Stochastic Optimizer: Maximum iterations (200) reached and the optimization hasn't converged yet.\n",
            "  % self.max_iter, ConvergenceWarning)\n",
            "/usr/local/lib/python3.7/dist-packages/sklearn/neural_network/_multilayer_perceptron.py:571: ConvergenceWarning: Stochastic Optimizer: Maximum iterations (200) reached and the optimization hasn't converged yet.\n",
            "  % self.max_iter, ConvergenceWarning)\n",
            "/usr/local/lib/python3.7/dist-packages/sklearn/neural_network/_multilayer_perceptron.py:571: ConvergenceWarning: Stochastic Optimizer: Maximum iterations (200) reached and the optimization hasn't converged yet.\n",
            "  % self.max_iter, ConvergenceWarning)\n",
            "/usr/local/lib/python3.7/dist-packages/sklearn/neural_network/_multilayer_perceptron.py:571: ConvergenceWarning: Stochastic Optimizer: Maximum iterations (200) reached and the optimization hasn't converged yet.\n",
            "  % self.max_iter, ConvergenceWarning)\n",
            "/usr/local/lib/python3.7/dist-packages/sklearn/neural_network/_multilayer_perceptron.py:571: ConvergenceWarning: Stochastic Optimizer: Maximum iterations (200) reached and the optimization hasn't converged yet.\n",
            "  % self.max_iter, ConvergenceWarning)\n",
            "/usr/local/lib/python3.7/dist-packages/sklearn/neural_network/_multilayer_perceptron.py:571: ConvergenceWarning: Stochastic Optimizer: Maximum iterations (200) reached and the optimization hasn't converged yet.\n",
            "  % self.max_iter, ConvergenceWarning)\n",
            "/usr/local/lib/python3.7/dist-packages/sklearn/neural_network/_multilayer_perceptron.py:571: ConvergenceWarning: Stochastic Optimizer: Maximum iterations (200) reached and the optimization hasn't converged yet.\n",
            "  % self.max_iter, ConvergenceWarning)\n",
            "/usr/local/lib/python3.7/dist-packages/sklearn/neural_network/_multilayer_perceptron.py:571: ConvergenceWarning: Stochastic Optimizer: Maximum iterations (200) reached and the optimization hasn't converged yet.\n",
            "  % self.max_iter, ConvergenceWarning)\n"
          ]
        }
      ]
    },
    {
      "cell_type": "code",
      "metadata": {
        "colab": {
          "base_uri": "https://localhost:8080/",
          "height": 1000
        },
        "id": "bbZRSxSCP9xm",
        "outputId": "387c843c-a1a4-4981-91db-66494ecd7319"
      },
      "source": [
        "#for each of the six classifiers make a plot with its learning curve\n",
        "for i in range(6):\n",
        "  x = train_size\n",
        "  y=accuracy[i]\n",
        "\n",
        "  #plt.plot(x, y, 'ro')\n",
        "  fig, ax = plt.subplots()\n",
        "  ax.plot(x, y, '-p')\n",
        "\n",
        "  ax.set(xlabel='training size', ylabel='accuracy',\n",
        "        title=[clf_name[i]])\n",
        "  ax.grid()\n",
        "\n",
        "  plt.show()  "
      ],
      "execution_count": null,
      "outputs": [
        {
          "output_type": "display_data",
          "data": {
            "image/png": "[encoded data removed]",
            "text/plain": [
              "<Figure size 432x288 with 1 Axes>"
            ]
          },
          "metadata": {
            "needs_background": "light"
          }
        },
        {
          "output_type": "display_data",
          "data": {
            "image/png": "[encoded data removed]",
            "text/plain": [
              "<Figure size 432x288 with 1 Axes>"
            ]
          },
          "metadata": {
            "needs_background": "light"
          }
        },
        {
          "output_type": "display_data",
          "data": {
            "image/png": "[encoded data removed]",
            "text/plain": [
              "<Figure size 432x288 with 1 Axes>"
            ]
          },
          "metadata": {
            "needs_background": "light"
          }
        },
        {
          "output_type": "display_data",
          "data": {
            "image/png": "[encoded data removed]",
            "text/plain": [
              "<Figure size 432x288 with 1 Axes>"
            ]
          },
          "metadata": {
            "needs_background": "light"
          }
        },
        {
          "output_type": "display_data",
          "data": {
            "image/png": "[encoded data removed]",
            "text/plain": [
              "<Figure size 432x288 with 1 Axes>"
            ]
          },
          "metadata": {
            "needs_background": "light"
          }
        },
        {
          "output_type": "display_data",
          "data": {
            "image/png": "[encoded data removed]",
            "text/plain": [
              "<Figure size 432x288 with 1 Axes>"
            ]
          },
          "metadata": {
            "needs_background": "light"
          }
        }
      ]
    },
    {
      "cell_type": "code",
      "metadata": {
        "id": "PsdW2RYzegO7"
      },
      "source": [
        "#create a dataframe with the classifiers accuracy scores as columns and training size as rows\n",
        "fnames=[]\n",
        "for i in range(len(classifiers)):\n",
        "  lc=pd.DataFrame(accuracy[i],columns=[clf_name[i]],index=[l for l in train_size])\n",
        "  fnames.append(lc)\n",
        "learning_curves= pd.concat([f for f in fnames], axis=1)\n",
        "\n",
        "#add the scores to the excel file\n",
        "with pd.ExcelWriter(\"docML_outputs.xlsx\", engine='openpyxl', mode='a') as writer:\n",
        "  learning_curves.to_excel(writer,\n",
        "                           sheet_name=\"learning curves\")"
      ],
      "execution_count": null,
      "outputs": []
    },
    {
      "cell_type": "code",
      "metadata": {
        "colab": {
          "base_uri": "https://localhost:8080/",
          "height": 202
        },
        "id": "l8VBJCjCkgmC",
        "outputId": "f3abf5f2-a2aa-4d4b-c5e9-e1e394ecb786"
      },
      "source": [
        "learning_curves"
      ],
      "execution_count": null,
      "outputs": [
        {
          "output_type": "execute_result",
          "data": {
            "text/html": [
              "<div>\n",
              "<style scoped>\n",
              "    .dataframe tbody tr th:only-of-type {\n",
              "        vertical-align: middle;\n",
              "    }\n",
              "\n",
              "    .dataframe tbody tr th {\n",
              "        vertical-align: top;\n",
              "    }\n",
              "\n",
              "    .dataframe thead th {\n",
              "        text-align: right;\n",
              "    }\n",
              "</style>\n",
              "<table border=\"1\" class=\"dataframe\">\n",
              "  <thead>\n",
              "    <tr style=\"text-align: right;\">\n",
              "      <th></th>\n",
              "      <th>KNeighborsClassifier</th>\n",
              "      <th>SVC</th>\n",
              "      <th>DecisionTreeClassifier</th>\n",
              "      <th>RandomForestClassifier</th>\n",
              "      <th>GaussianProcessClassifier</th>\n",
              "      <th>MLPClassifier</th>\n",
              "    </tr>\n",
              "  </thead>\n",
              "  <tbody>\n",
              "    <tr>\n",
              "      <th>500</th>\n",
              "      <td>0.316316</td>\n",
              "      <td>0.386887</td>\n",
              "      <td>0.231231</td>\n",
              "      <td>0.352853</td>\n",
              "      <td>0.341341</td>\n",
              "      <td>0.348849</td>\n",
              "    </tr>\n",
              "    <tr>\n",
              "      <th>1000</th>\n",
              "      <td>0.344845</td>\n",
              "      <td>0.411411</td>\n",
              "      <td>0.236737</td>\n",
              "      <td>0.375375</td>\n",
              "      <td>0.368368</td>\n",
              "      <td>0.376376</td>\n",
              "    </tr>\n",
              "    <tr>\n",
              "      <th>1500</th>\n",
              "      <td>0.353353</td>\n",
              "      <td>0.414915</td>\n",
              "      <td>0.254755</td>\n",
              "      <td>0.396897</td>\n",
              "      <td>0.371872</td>\n",
              "      <td>0.372873</td>\n",
              "    </tr>\n",
              "    <tr>\n",
              "      <th>2000</th>\n",
              "      <td>0.368869</td>\n",
              "      <td>0.429930</td>\n",
              "      <td>0.284284</td>\n",
              "      <td>0.405405</td>\n",
              "      <td>0.374875</td>\n",
              "      <td>0.390390</td>\n",
              "    </tr>\n",
              "    <tr>\n",
              "      <th>2660</th>\n",
              "      <td>0.395896</td>\n",
              "      <td>0.442442</td>\n",
              "      <td>0.268268</td>\n",
              "      <td>0.407908</td>\n",
              "      <td>0.382883</td>\n",
              "      <td>0.403904</td>\n",
              "    </tr>\n",
              "  </tbody>\n",
              "</table>\n",
              "</div>"
            ],
            "text/plain": [
              "      KNeighborsClassifier       SVC  ...  GaussianProcessClassifier  MLPClassifier\n",
              "500               0.316316  0.386887  ...                   0.341341       0.348849\n",
              "1000              0.344845  0.411411  ...                   0.368368       0.376376\n",
              "1500              0.353353  0.414915  ...                   0.371872       0.372873\n",
              "2000              0.368869  0.429930  ...                   0.374875       0.390390\n",
              "2660              0.395896  0.442442  ...                   0.382883       0.403904\n",
              "\n",
              "[5 rows x 6 columns]"
            ]
          },
          "metadata": {},
          "execution_count": 69
        }
      ]
    },
    {
      "cell_type": "code",
      "metadata": {
        "colab": {
          "base_uri": "https://localhost:8080/"
        },
        "id": "vopFplkucqCR",
        "outputId": "1e9dc829-8c89-420b-9b53-3595af97bb86"
      },
      "source": [
        "#training curves\n",
        "\n",
        "classifiers=[neighbors.KNeighborsClassifier(),svm.SVC(probability=True),tree.DecisionTreeClassifier(),\n",
        "        RandomForestClassifier(),GaussianProcessClassifier(),MLPClassifier()]\n",
        "\n",
        "train_size=[500, 1000, 1500, 2000, len(X_dtrain1)]\n",
        "#create a list to add classifiers' names\n",
        "new_clf_name=[]\n",
        "#create a list to add smaller lists, each of which will contain one's classifier accuracy scores\n",
        "new_accuracy=[]\n",
        "\n",
        "for clf in classifiers:\n",
        "  #add the name of the classifier to the new_clf_name list\n",
        "  new_clf_name.append(clf.__class__.__name__)\n",
        "  #create an empty list to append the classifier's accuracy scores\n",
        "  new_clf_acc=[]\n",
        "  for size in train_size:\n",
        "\n",
        "    #train three models(one for each of the three training-test splits) with the corresponding size of their training set \n",
        "    #and test them on the same training set. \n",
        "    clf.fit(X_dtrain1[:size], y_dtrain1[:size])\n",
        "    predictions1=clf.predict(X_dtrain1[:size])\n",
        "    #compute the accuracy score of the classifier\n",
        "    ac1=accuracy_score(y_dtrain1[:size], predictions1)\n",
        "\n",
        "    #Do the same for the other two models    \n",
        "    clf.fit(X_dtrain2[:size], y_dtrain2[:size])\n",
        "    predictions2=clf.predict(X_dtrain2[:size])\n",
        "    ac2=accuracy_score(y_dtrain2[:size], predictions2)\n",
        "\n",
        "    clf.fit(X_dtrain3[:size], y_dtrain3[:size]) \n",
        "    predictions3=clf.predict(X_dtrain3[:size])\n",
        "    ac3=accuracy_score(y_dtrain3[:size], predictions3)\n",
        "\n",
        "    #add into the new_clf_acc list the mean accuracy score of the three models\n",
        "    new_clf_acc.append(statistics.mean([ac1,ac2,ac3]))\n",
        "    \n",
        "  #add the new_clf_acc list with the mean accuracy scores of the classifier to the new_accuracy list\n",
        "  new_accuracy.append(new_clf_acc)"
      ],
      "execution_count": null,
      "outputs": [
        {
          "output_type": "stream",
          "name": "stderr",
          "text": [
            "/usr/local/lib/python3.7/dist-packages/sklearn/neural_network/_multilayer_perceptron.py:571: ConvergenceWarning: Stochastic Optimizer: Maximum iterations (200) reached and the optimization hasn't converged yet.\n",
            "  % self.max_iter, ConvergenceWarning)\n",
            "/usr/local/lib/python3.7/dist-packages/sklearn/neural_network/_multilayer_perceptron.py:571: ConvergenceWarning: Stochastic Optimizer: Maximum iterations (200) reached and the optimization hasn't converged yet.\n",
            "  % self.max_iter, ConvergenceWarning)\n",
            "/usr/local/lib/python3.7/dist-packages/sklearn/neural_network/_multilayer_perceptron.py:571: ConvergenceWarning: Stochastic Optimizer: Maximum iterations (200) reached and the optimization hasn't converged yet.\n",
            "  % self.max_iter, ConvergenceWarning)\n",
            "/usr/local/lib/python3.7/dist-packages/sklearn/neural_network/_multilayer_perceptron.py:571: ConvergenceWarning: Stochastic Optimizer: Maximum iterations (200) reached and the optimization hasn't converged yet.\n",
            "  % self.max_iter, ConvergenceWarning)\n",
            "/usr/local/lib/python3.7/dist-packages/sklearn/neural_network/_multilayer_perceptron.py:571: ConvergenceWarning: Stochastic Optimizer: Maximum iterations (200) reached and the optimization hasn't converged yet.\n",
            "  % self.max_iter, ConvergenceWarning)\n",
            "/usr/local/lib/python3.7/dist-packages/sklearn/neural_network/_multilayer_perceptron.py:571: ConvergenceWarning: Stochastic Optimizer: Maximum iterations (200) reached and the optimization hasn't converged yet.\n",
            "  % self.max_iter, ConvergenceWarning)\n",
            "/usr/local/lib/python3.7/dist-packages/sklearn/neural_network/_multilayer_perceptron.py:571: ConvergenceWarning: Stochastic Optimizer: Maximum iterations (200) reached and the optimization hasn't converged yet.\n",
            "  % self.max_iter, ConvergenceWarning)\n",
            "/usr/local/lib/python3.7/dist-packages/sklearn/neural_network/_multilayer_perceptron.py:571: ConvergenceWarning: Stochastic Optimizer: Maximum iterations (200) reached and the optimization hasn't converged yet.\n",
            "  % self.max_iter, ConvergenceWarning)\n",
            "/usr/local/lib/python3.7/dist-packages/sklearn/neural_network/_multilayer_perceptron.py:571: ConvergenceWarning: Stochastic Optimizer: Maximum iterations (200) reached and the optimization hasn't converged yet.\n",
            "  % self.max_iter, ConvergenceWarning)\n",
            "/usr/local/lib/python3.7/dist-packages/sklearn/neural_network/_multilayer_perceptron.py:571: ConvergenceWarning: Stochastic Optimizer: Maximum iterations (200) reached and the optimization hasn't converged yet.\n",
            "  % self.max_iter, ConvergenceWarning)\n",
            "/usr/local/lib/python3.7/dist-packages/sklearn/neural_network/_multilayer_perceptron.py:571: ConvergenceWarning: Stochastic Optimizer: Maximum iterations (200) reached and the optimization hasn't converged yet.\n",
            "  % self.max_iter, ConvergenceWarning)\n",
            "/usr/local/lib/python3.7/dist-packages/sklearn/neural_network/_multilayer_perceptron.py:571: ConvergenceWarning: Stochastic Optimizer: Maximum iterations (200) reached and the optimization hasn't converged yet.\n",
            "  % self.max_iter, ConvergenceWarning)\n",
            "/usr/local/lib/python3.7/dist-packages/sklearn/neural_network/_multilayer_perceptron.py:571: ConvergenceWarning: Stochastic Optimizer: Maximum iterations (200) reached and the optimization hasn't converged yet.\n",
            "  % self.max_iter, ConvergenceWarning)\n",
            "/usr/local/lib/python3.7/dist-packages/sklearn/neural_network/_multilayer_perceptron.py:571: ConvergenceWarning: Stochastic Optimizer: Maximum iterations (200) reached and the optimization hasn't converged yet.\n",
            "  % self.max_iter, ConvergenceWarning)\n",
            "/usr/local/lib/python3.7/dist-packages/sklearn/neural_network/_multilayer_perceptron.py:571: ConvergenceWarning: Stochastic Optimizer: Maximum iterations (200) reached and the optimization hasn't converged yet.\n",
            "  % self.max_iter, ConvergenceWarning)\n"
          ]
        }
      ]
    },
    {
      "cell_type": "code",
      "metadata": {
        "colab": {
          "base_uri": "https://localhost:8080/",
          "height": 1000
        },
        "id": "lISmNpvmnRsb",
        "outputId": "a62509e4-191a-4623-aa04-771c63624c20"
      },
      "source": [
        "#for each of the six classifiers make a plot with its learning curve\n",
        "for i in range(6):\n",
        "  x = train_size\n",
        "  y=new_accuracy[i]\n",
        "\n",
        "  #plt.plot(x, y, 'ro')\n",
        "  fig, ax = plt.subplots()\n",
        "  ax.plot(x, y, '-p')\n",
        "\n",
        "  ax.set(xlabel='training size', ylabel='accuracy',\n",
        "        title=[new_clf_name[i]])\n",
        "  ax.grid()\n",
        "\n",
        "  plt.show()  "
      ],
      "execution_count": null,
      "outputs": [
        {
          "output_type": "display_data",
          "data": {
            "image/png": "[encoded data removed]",
            "text/plain": [
              "<Figure size 432x288 with 1 Axes>"
            ]
          },
          "metadata": {
            "needs_background": "light"
          }
        },
        {
          "output_type": "display_data",
          "data": {
            "image/png": "[encoded data removed]",
            "text/plain": [
              "<Figure size 432x288 with 1 Axes>"
            ]
          },
          "metadata": {
            "needs_background": "light"
          }
        },
        {
          "output_type": "display_data",
          "data": {
            "image/png": "[encoded data removed]",
            "text/plain": [
              "<Figure size 432x288 with 1 Axes>"
            ]
          },
          "metadata": {
            "needs_background": "light"
          }
        },
        {
          "output_type": "display_data",
          "data": {
            "image/png": "[encoded data removed]",
            "text/plain": [
              "<Figure size 432x288 with 1 Axes>"
            ]
          },
          "metadata": {
            "needs_background": "light"
          }
        },
        {
          "output_type": "display_data",
          "data": {
            "image/png": "[encoded data removed]",
            "text/plain": [
              "<Figure size 432x288 with 1 Axes>"
            ]
          },
          "metadata": {
            "needs_background": "light"
          }
        },
        {
          "output_type": "display_data",
          "data": {
            "image/png": "[encoded data removed]",
            "text/plain": [
              "<Figure size 432x288 with 1 Axes>"
            ]
          },
          "metadata": {
            "needs_background": "light"
          }
        }
      ]
    },
    {
      "cell_type": "code",
      "metadata": {
        "id": "qmK2NwKCngOU"
      },
      "source": [
        "#create a dataframe with the classifiers accuracy scores as columns and training size as rows\n",
        "fnames=[]\n",
        "for i in range(len(classifiers)):\n",
        "  lc=pd.DataFrame(new_accuracy[i],columns=[new_clf_name[i]],index=[l for l in train_size])\n",
        "  fnames.append(lc)\n",
        "new_learning_curves= pd.concat([f for f in fnames], axis=1)\n",
        "\n",
        "#add the scores to the excel file\n",
        "with pd.ExcelWriter(\"docML_outputs.xlsx\", engine='openpyxl', mode='a') as writer:\n",
        "  new_learning_curves.to_excel(writer,\n",
        "                           sheet_name=\"new learning curves\")"
      ],
      "execution_count": null,
      "outputs": []
    },
    {
      "cell_type": "code",
      "metadata": {
        "colab": {
          "base_uri": "https://localhost:8080/",
          "height": 202
        },
        "id": "4ds8Xt0onzh6",
        "outputId": "896bf569-e240-4a95-c531-e201c7356e4a"
      },
      "source": [
        "new_learning_curves"
      ],
      "execution_count": null,
      "outputs": [
        {
          "output_type": "execute_result",
          "data": {
            "text/html": [
              "<div>\n",
              "<style scoped>\n",
              "    .dataframe tbody tr th:only-of-type {\n",
              "        vertical-align: middle;\n",
              "    }\n",
              "\n",
              "    .dataframe tbody tr th {\n",
              "        vertical-align: top;\n",
              "    }\n",
              "\n",
              "    .dataframe thead th {\n",
              "        text-align: right;\n",
              "    }\n",
              "</style>\n",
              "<table border=\"1\" class=\"dataframe\">\n",
              "  <thead>\n",
              "    <tr style=\"text-align: right;\">\n",
              "      <th></th>\n",
              "      <th>KNeighborsClassifier</th>\n",
              "      <th>SVC</th>\n",
              "      <th>DecisionTreeClassifier</th>\n",
              "      <th>RandomForestClassifier</th>\n",
              "      <th>GaussianProcessClassifier</th>\n",
              "      <th>MLPClassifier</th>\n",
              "    </tr>\n",
              "  </thead>\n",
              "  <tbody>\n",
              "    <tr>\n",
              "      <th>500</th>\n",
              "      <td>0.537333</td>\n",
              "      <td>0.611333</td>\n",
              "      <td>1.000000</td>\n",
              "      <td>1.000000</td>\n",
              "      <td>0.359333</td>\n",
              "      <td>0.641333</td>\n",
              "    </tr>\n",
              "    <tr>\n",
              "      <th>1000</th>\n",
              "      <td>0.536667</td>\n",
              "      <td>0.599333</td>\n",
              "      <td>1.000000</td>\n",
              "      <td>1.000000</td>\n",
              "      <td>0.388667</td>\n",
              "      <td>0.610667</td>\n",
              "    </tr>\n",
              "    <tr>\n",
              "      <th>1500</th>\n",
              "      <td>0.552667</td>\n",
              "      <td>0.583333</td>\n",
              "      <td>0.999778</td>\n",
              "      <td>0.999778</td>\n",
              "      <td>0.386889</td>\n",
              "      <td>0.624000</td>\n",
              "    </tr>\n",
              "    <tr>\n",
              "      <th>2000</th>\n",
              "      <td>0.556500</td>\n",
              "      <td>0.583833</td>\n",
              "      <td>0.999833</td>\n",
              "      <td>0.999833</td>\n",
              "      <td>0.386833</td>\n",
              "      <td>0.597500</td>\n",
              "    </tr>\n",
              "    <tr>\n",
              "      <th>2660</th>\n",
              "      <td>0.577694</td>\n",
              "      <td>0.580952</td>\n",
              "      <td>0.999749</td>\n",
              "      <td>0.999749</td>\n",
              "      <td>0.390977</td>\n",
              "      <td>0.591353</td>\n",
              "    </tr>\n",
              "  </tbody>\n",
              "</table>\n",
              "</div>"
            ],
            "text/plain": [
              "      KNeighborsClassifier       SVC  ...  GaussianProcessClassifier  MLPClassifier\n",
              "500               0.537333  0.611333  ...                   0.359333       0.641333\n",
              "1000              0.536667  0.599333  ...                   0.388667       0.610667\n",
              "1500              0.552667  0.583333  ...                   0.386889       0.624000\n",
              "2000              0.556500  0.583833  ...                   0.386833       0.597500\n",
              "2660              0.577694  0.580952  ...                   0.390977       0.591353\n",
              "\n",
              "[5 rows x 6 columns]"
            ]
          },
          "metadata": {},
          "execution_count": 73
        }
      ]
    }
  ]
}